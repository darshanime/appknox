{
 "cells": [
  {
   "cell_type": "code",
   "execution_count": 16,
   "metadata": {
    "collapsed": true
   },
   "outputs": [],
   "source": [
    "import requests\n",
    "from bs4 import BeautifulSoup\n"
   ]
  },
  {
   "cell_type": "code",
   "execution_count": 46,
   "metadata": {
    "collapsed": true
   },
   "outputs": [],
   "source": [
    "# query = \"angry+birds\"\n",
    "url = \"https://play.google.com/store/search?q=hello&c=apps\"\n",
    "# url = \"https://play.google.com/store/search?q=\"+query+\"&c=apps\"\n",
    "r = requests.get(url)\n",
    "html = r.text"
   ]
  },
  {
   "cell_type": "code",
   "execution_count": 47,
   "metadata": {
    "collapsed": false,
    "scrolled": true
   },
   "outputs": [],
   "source": [
    "soup = BeautifulSoup(html)\n",
    "links = []\n",
    "l = soup.find_all(\"div\", { \"class\" : \"id-card-list card-list two-cards\"})\n",
    "b = soup.findAll(\"div\", {\"class\" : \"cluster-heading\"})"
   ]
  },
  {
   "cell_type": "code",
   "execution_count": 67,
   "metadata": {
    "collapsed": false
   },
   "outputs": [
    {
     "name": "stdout",
     "output_type": "stream",
     "text": [
      "130756\n",
      "<class 'bs4.element.ResultSet'>\n"
     ]
    }
   ],
   "source": [
    "print len(html)\n",
    "print type(l)\n",
    "print "
   ]
  },
  {
   "cell_type": "code",
   "execution_count": 135,
   "metadata": {
    "collapsed": false
   },
   "outputs": [
    {
     "name": "stdout",
     "output_type": "stream",
     "text": [
      "66\n"
     ]
    }
   ],
   "source": [
    "x = soup.find_all(class_=\"id-card-list card-list two-cards\")\n",
    "# y = soup.find_all(class_=['card', 'no-rationale', 'square-cover', 'apps', 'small'])\n",
    "print len(y)"
   ]
  },
  {
   "cell_type": "code",
   "execution_count": 99,
   "metadata": {
    "collapsed": false,
    "scrolled": true
   },
   "outputs": [
    {
     "name": "stdout",
     "output_type": "stream",
     "text": [
      "780\n",
      "<class 'bs4.element.Tag'>\n",
      "com.CultureAlley.japanese.english\n",
      "<class 'bs4.element.ResultSet'>\n",
      "[]\n",
      "[]\n"
     ]
    }
   ],
   "source": [
    "print len(x[0].find_all())\n",
    "app = x[0].find_all()[0]\n",
    "print type(app)\n",
    "print app['data-docid']\n",
    "\n",
    "app2 = x[0].find_all(class_=\"hello\")\n",
    "print type(app2)\n",
    "print app2\n",
    "\n",
    "print y\n",
    "\n",
    "\n",
    "# for i in x[0].find_all():\n",
    "#     print i['data-docid']"
   ]
  },
  {
   "cell_type": "code",
   "execution_count": 117,
   "metadata": {
    "collapsed": false,
    "scrolled": true
   },
   "outputs": [
    {
     "name": "stdout",
     "output_type": "stream",
     "text": [
      "com.CultureAlley.japanese.english ['card', 'no-rationale', 'square-cover', 'apps', 'small']\n",
      "com.CultureAlley.japanese.english ['card-content', 'id-track-click', 'id-track-impression']\n",
      "com.CultureAlley.japanese.english ['preview-overlay-container']\n",
      "com.CultureAlley.japanese.english ['apps', 'is-price-tag', 'buy-button-container', 'is_not_aquired_or_preordered']\n",
      "com.CultureAlley.japanese.english ['apps', 'is-price-tag', 'buy-button-container', 'is_not_aquired_or_preordered']\n",
      "com.sd.google.helloKittyCafe ['card', 'no-rationale', 'square-cover', 'apps', 'small']\n",
      "com.sd.google.helloKittyCafe ['card-content', 'id-track-click', 'id-track-impression']\n",
      "com.sd.google.helloKittyCafe ['preview-overlay-container']\n",
      "com.sd.google.helloKittyCafe ['apps', 'is-price-tag', 'buy-button-container', 'is_not_aquired_or_preordered']\n",
      "com.sd.google.helloKittyCafe ['apps', 'is-price-tag', 'buy-button-container', 'is_not_aquired_or_preordered']\n",
      "com.budgestudios.HelloKittyNailSalon ['card', 'no-rationale', 'square-cover', 'apps', 'small']\n",
      "com.budgestudios.HelloKittyNailSalon ['card-content', 'id-track-click', 'id-track-impression']\n",
      "com.budgestudios.HelloKittyNailSalon ['preview-overlay-container']\n",
      "com.budgestudios.HelloKittyNailSalon ['apps', 'is-price-tag', 'buy-button-container', 'is_not_aquired_or_preordered']\n",
      "com.budgestudios.HelloKittyNailSalon ['apps', 'is-price-tag', 'buy-button-container', 'is_not_aquired_or_preordered']\n",
      "net.helloapp.hello ['card', 'no-rationale', 'square-cover', 'apps', 'small']\n",
      "net.helloapp.hello ['card-content', 'id-track-click', 'id-track-impression']\n",
      "net.helloapp.hello ['preview-overlay-container']\n",
      "net.helloapp.hello ['apps', 'is-price-tag', 'buy-button-container', 'is_not_aquired_or_preordered']\n",
      "net.helloapp.hello ['apps', 'is-price-tag', 'buy-button-container', 'is_not_aquired_or_preordered']\n",
      "com.sd.google.hellokittybeautysalon ['card', 'no-rationale', 'square-cover', 'apps', 'small']\n",
      "com.sd.google.hellokittybeautysalon ['card-content', 'id-track-click', 'id-track-impression']\n",
      "com.sd.google.hellokittybeautysalon ['preview-overlay-container']\n",
      "com.sd.google.hellokittybeautysalon ['apps', 'is-price-tag', 'buy-button-container', 'is_not_aquired_or_preordered']\n",
      "com.sd.google.hellokittybeautysalon ['apps', 'is-price-tag', 'buy-button-container', 'is_not_aquired_or_preordered']\n",
      "com.raysoft.hellocolorpencil ['card', 'no-rationale', 'square-cover', 'apps', 'small']\n",
      "com.raysoft.hellocolorpencil ['card-content', 'id-track-click', 'id-track-impression']\n",
      "com.raysoft.hellocolorpencil ['preview-overlay-container']\n",
      "com.raysoft.hellocolorpencil ['apps', 'is-price-tag', 'buy-button-container', 'is_not_aquired_or_preordered']\n",
      "com.raysoft.hellocolorpencil ['apps', 'is-price-tag', 'buy-button-container', 'is_not_aquired_or_preordered']\n",
      "com.raysoft.hellocrayon ['card', 'no-rationale', 'square-cover', 'apps', 'small']\n",
      "com.raysoft.hellocrayon ['card-content', 'id-track-click', 'id-track-impression']\n",
      "com.raysoft.hellocrayon ['preview-overlay-container']\n",
      "com.raysoft.hellocrayon ['apps', 'is-price-tag', 'buy-button-container', 'is_not_aquired_or_preordered']\n",
      "com.raysoft.hellocrayon ['apps', 'is-price-tag', 'buy-button-container', 'is_not_aquired_or_preordered']\n",
      "com.sd.google.helloKittysPieShop ['card', 'no-rationale', 'square-cover', 'apps', 'small']\n",
      "com.sd.google.helloKittysPieShop ['card-content', 'id-track-click', 'id-track-impression']\n",
      "com.sd.google.helloKittysPieShop ['preview-overlay-container']\n",
      "com.sd.google.helloKittysPieShop ['apps', 'is-price-tag', 'buy-button-container', 'is_not_aquired_or_preordered']\n",
      "com.sd.google.helloKittysPieShop ['apps', 'is-price-tag', 'buy-button-container', 'is_not_aquired_or_preordered']\n",
      "air.hello ['card', 'no-rationale', 'square-cover', 'apps', 'small']\n",
      "air.hello ['card-content', 'id-track-click', 'id-track-impression']\n",
      "air.hello ['preview-overlay-container']\n",
      "air.hello ['apps', 'is-price-tag', 'buy-button-container', 'is_not_aquired_or_preordered']\n",
      "air.hello ['apps', 'is-price-tag', 'buy-button-container', 'is_not_aquired_or_preordered']\n",
      "com.allvins.android.HelloDialer ['card', 'no-rationale', 'square-cover', 'apps', 'small']\n",
      "com.allvins.android.HelloDialer ['card-content', 'id-track-click', 'id-track-impression']\n",
      "com.allvins.android.HelloDialer ['preview-overlay-container']\n",
      "com.allvins.android.HelloDialer ['apps', 'is-price-tag', 'buy-button-container', 'is_not_aquired_or_preordered']\n",
      "com.allvins.android.HelloDialer ['apps', 'is-price-tag', 'buy-button-container', 'is_not_aquired_or_preordered']\n",
      "com.contactive ['card', 'no-rationale', 'square-cover', 'apps', 'small']\n",
      "com.contactive ['card-content', 'id-track-click', 'id-track-impression']\n",
      "com.contactive ['preview-overlay-container']\n",
      "com.contactive ['apps', 'is-price-tag', 'buy-button-container', 'is_not_aquired_or_preordered']\n",
      "com.contactive ['apps', 'is-price-tag', 'buy-button-container', 'is_not_aquired_or_preordered']\n",
      "com.arietakahiro.hello ['card', 'no-rationale', 'square-cover', 'apps', 'small']\n",
      "com.arietakahiro.hello ['card-content', 'id-track-click', 'id-track-impression']\n",
      "com.arietakahiro.hello ['preview-overlay-container']\n",
      "com.arietakahiro.hello ['apps', 'is-price-tag', 'buy-button-container', 'is_not_aquired_or_preordered']\n",
      "com.arietakahiro.hello ['apps', 'is-price-tag', 'buy-button-container', 'is_not_aquired_or_preordered']\n",
      "com.sanriodigital.google.helloKittyGarden ['card', 'no-rationale', 'square-cover', 'apps', 'small']\n",
      "com.sanriodigital.google.helloKittyGarden ['card-content', 'id-track-click', 'id-track-impression']\n",
      "com.sanriodigital.google.helloKittyGarden ['preview-overlay-container']\n",
      "com.sanriodigital.google.helloKittyGarden ['apps', 'is-price-tag', 'buy-button-container', 'is_not_aquired_or_preordered']\n",
      "com.sanriodigital.google.helloKittyGarden ['apps', 'is-price-tag', 'buy-button-container', 'is_not_aquired_or_preordered']\n",
      "com.speednews.hellospeed ['card', 'no-rationale', 'square-cover', 'apps', 'small']\n",
      "com.speednews.hellospeed ['card-content', 'id-track-click', 'id-track-impression']\n",
      "com.speednews.hellospeed ['preview-overlay-container']\n",
      "com.speednews.hellospeed ['apps', 'is-price-tag', 'buy-button-container', 'is_not_aquired_or_preordered']\n",
      "com.speednews.hellospeed ['apps', 'is-price-tag', 'buy-button-container', 'is_not_aquired_or_preordered']\n",
      "com.optimesoftware.tictactoe.free ['card', 'no-rationale', 'square-cover', 'apps', 'small']\n",
      "com.optimesoftware.tictactoe.free ['card-content', 'id-track-click', 'id-track-impression']\n",
      "com.optimesoftware.tictactoe.free ['preview-overlay-container']\n",
      "com.optimesoftware.tictactoe.free ['apps', 'is-price-tag', 'buy-button-container', 'is_not_aquired_or_preordered']\n",
      "com.optimesoftware.tictactoe.free ['apps', 'is-price-tag', 'buy-button-container', 'is_not_aquired_or_preordered']\n",
      "com.weallloveapps.agent9 ['card', 'no-rationale', 'square-cover', 'apps', 'small']\n",
      "com.weallloveapps.agent9 ['card-content', 'id-track-click', 'id-track-impression']\n",
      "com.weallloveapps.agent9 ['preview-overlay-container']\n",
      "com.weallloveapps.agent9 ['apps', 'is-price-tag', 'buy-button-container', 'is_not_aquired_or_preordered']\n",
      "com.weallloveapps.agent9 ['apps', 'is-price-tag', 'buy-button-container', 'is_not_aquired_or_preordered']\n",
      "com.actingsoftware.temple.pics.hellocandy ['card', 'no-rationale', 'square-cover', 'apps', 'small']\n",
      "com.actingsoftware.temple.pics.hellocandy ['card-content', 'id-track-click', 'id-track-impression']\n",
      "com.actingsoftware.temple.pics.hellocandy ['preview-overlay-container']\n",
      "com.actingsoftware.temple.pics.hellocandy ['apps', 'is-price-tag', 'buy-button-container', 'is_not_aquired_or_preordered']\n",
      "com.actingsoftware.temple.pics.hellocandy ['apps', 'is-price-tag', 'buy-button-container', 'is_not_aquired_or_preordered']\n",
      "kr.co.wever.funnylarva ['card', 'no-rationale', 'square-cover', 'apps', 'small']\n",
      "kr.co.wever.funnylarva ['card-content', 'id-track-click', 'id-track-impression']\n",
      "kr.co.wever.funnylarva ['preview-overlay-container']\n",
      "kr.co.wever.funnylarva ['apps', 'is-price-tag', 'buy-button-container', 'is_not_aquired_or_preordered']\n",
      "kr.co.wever.funnylarva ['apps', 'is-price-tag', 'buy-button-container', 'is_not_aquired_or_preordered']\n",
      "com.FakeCall2 ['card', 'no-rationale', 'square-cover', 'apps', 'small']\n",
      "com.FakeCall2 ['card-content', 'id-track-click', 'id-track-impression']\n",
      "com.FakeCall2 ['preview-overlay-container']\n",
      "com.FakeCall2 ['apps', 'is-price-tag', 'buy-button-container', 'is_not_aquired_or_preordered']\n",
      "com.FakeCall2 ['apps', 'is-price-tag', 'buy-button-container', 'is_not_aquired_or_preordered']\n",
      "com.sdeu.google.hellokittycarnival ['card', 'no-rationale', 'square-cover', 'apps', 'small']\n",
      "com.sdeu.google.hellokittycarnival ['card-content', 'id-track-click', 'id-track-impression']\n",
      "com.sdeu.google.hellokittycarnival ['preview-overlay-container']\n",
      "com.sdeu.google.hellokittycarnival ['apps', 'is-price-tag', 'buy-button-container', 'is_not_aquired_or_preordered']\n",
      "com.sdeu.google.hellokittycarnival ['apps', 'is-price-tag', 'buy-button-container', 'is_not_aquired_or_preordered']\n"
     ]
    }
   ],
   "source": [
    "app3 = x[0].find_all()\n",
    "for app in app3:\n",
    "    try:\n",
    "        print app['data-docid'], app['class']\n",
    "    except:\n",
    "        pass"
   ]
  },
  {
   "cell_type": "code",
   "execution_count": 137,
   "metadata": {
    "collapsed": false
   },
   "outputs": [],
   "source": [
    "for i in y[0]:\n",
    "    try:\n",
    "        print i['data-docid']\n",
    "    except:\n",
    "        pass"
   ]
  },
  {
   "cell_type": "code",
   "execution_count": null,
   "metadata": {
    "collapsed": false
   },
   "outputs": [],
   "source": []
  },
  {
   "cell_type": "code",
   "execution_count": null,
   "metadata": {
    "collapsed": true
   },
   "outputs": [],
   "source": []
  }
 ],
 "metadata": {
  "kernelspec": {
   "display_name": "Python 2",
   "language": "python",
   "name": "python2"
  },
  "language_info": {
   "codemirror_mode": {
    "name": "ipython",
    "version": 2
   },
   "file_extension": ".py",
   "mimetype": "text/x-python",
   "name": "python",
   "nbconvert_exporter": "python",
   "pygments_lexer": "ipython2",
   "version": "2.7.10"
  }
 },
 "nbformat": 4,
 "nbformat_minor": 0
}
