{
 "cells": [
  {
   "cell_type": "code",
   "execution_count": 371,
   "metadata": {
    "collapsed": true
   },
   "outputs": [],
   "source": [
    "import requests\n",
    "from bs4 import BeautifulSoup\n"
   ]
  },
  {
   "cell_type": "code",
   "execution_count": 372,
   "metadata": {
    "collapsed": true
   },
   "outputs": [],
   "source": [
    "# query = \"angry+birds\"\n",
    "url = \"https://play.google.com/store/search?q=hello&c=apps\"\n",
    "# url = \"https://play.google.com/store/search?q=\"+query+\"&c=apps\"\n",
    "r = requests.get(url, headers={\n",
    "    \"User-Agent\": \"Mozilla/5.0 (Macintosh; Intel Mac OS X 10_11_4) AppleWebKit/537.36 (KHTML, like Gecko) Chrome/50.0.2661.94 Safari/537.36\"\n",
    "})\n",
    "html = r.text"
   ]
  },
  {
   "cell_type": "code",
   "execution_count": 373,
   "metadata": {
    "collapsed": false,
    "scrolled": true
   },
   "outputs": [],
   "source": [
    "soup = BeautifulSoup(html)\n",
    "links = []\n",
    "l = soup.find_all(\"div\", { \"class\" : \"id-card-list card-list two-cards\"})\n",
    "b = soup.findAll(\"div\", {\"class\" : \"cluster-heading\"})"
   ]
  },
  {
   "cell_type": "code",
   "execution_count": 378,
   "metadata": {
    "collapsed": false
   },
   "outputs": [],
   "source": [
    "def get_results(query):\n",
    "\n",
    "    url = \"https://play.google.com/store/search?q=\"+query+\"&c=apps\"\n",
    "    # r = requests.get(url)\n",
    "    r = requests.get(url, headers={\n",
    "    \"User-Agent\": \"Mozilla/5.0 (Macintosh; Intel Mac OS X 10_11_4) AppleWebKit/537.36 (KHTML, like Gecko) Chrome/50.0.2661.94 Safari/537.36\"\n",
    "})\n",
    "    \n",
    "    html = r.text\n",
    "    soup = BeautifulSoup(html)\n",
    "    ids = []\n",
    "    # cachedApps = \n",
    "    resSet = soup.find_all(class_=\"id-card-list card-list two-cards\")\n",
    "    allApps = resSet[0]\n",
    "    for app in allApps.findAll(\"div\"):\n",
    "        if app['class']==['card', 'no-rationale', 'square-cover', 'apps', 'small']:\n",
    "            print app['data-docid']\n",
    "            ids.append(app['data-docid'])\n",
    "\n",
    "    for id_ in ids:\n",
    "        get_info(id_)\n",
    "\n",
    "    return ids"
   ]
  },
  {
   "cell_type": "code",
   "execution_count": null,
   "metadata": {
    "collapsed": false
   },
   "outputs": [],
   "source": []
  },
  {
   "cell_type": "code",
   "execution_count": 374,
   "metadata": {
    "collapsed": false
   },
   "outputs": [
    {
     "name": "stdout",
     "output_type": "stream",
     "text": [
      "332376\n",
      "<class 'bs4.element.ResultSet'>\n",
      "\n"
     ]
    }
   ],
   "source": [
    "print len(html)\n",
    "print type(l)\n",
    "print "
   ]
  },
  {
   "cell_type": "code",
   "execution_count": 375,
   "metadata": {
    "collapsed": false
   },
   "outputs": [],
   "source": [
    "x = soup.find_all(class_=\"id-card-list card-list two-cards\")\n",
    "# y = soup.find_all(class_=['card', 'no-rationale', 'square-cover', 'apps', 'small'])\n"
   ]
  },
  {
   "cell_type": "code",
   "execution_count": 376,
   "metadata": {
    "collapsed": false,
    "scrolled": true
   },
   "outputs": [
    {
     "ename": "IndexError",
     "evalue": "list index out of range",
     "output_type": "error",
     "traceback": [
      "\u001b[1;31m---------------------------------------------------------------------------\u001b[0m",
      "\u001b[1;31mIndexError\u001b[0m                                Traceback (most recent call last)",
      "\u001b[1;32m<ipython-input-376-a961c61332d9>\u001b[0m in \u001b[0;36m<module>\u001b[1;34m()\u001b[0m\n\u001b[1;32m----> 1\u001b[1;33m \u001b[1;32mprint\u001b[0m \u001b[0mlen\u001b[0m\u001b[1;33m(\u001b[0m\u001b[0mx\u001b[0m\u001b[1;33m[\u001b[0m\u001b[1;36m0\u001b[0m\u001b[1;33m]\u001b[0m\u001b[1;33m.\u001b[0m\u001b[0mfind_all\u001b[0m\u001b[1;33m(\u001b[0m\u001b[1;33m)\u001b[0m\u001b[1;33m)\u001b[0m\u001b[1;33m\u001b[0m\u001b[0m\n\u001b[0m\u001b[0;32m      2\u001b[0m \u001b[0mapp\u001b[0m \u001b[1;33m=\u001b[0m \u001b[0mx\u001b[0m\u001b[1;33m[\u001b[0m\u001b[1;36m0\u001b[0m\u001b[1;33m]\u001b[0m\u001b[1;33m.\u001b[0m\u001b[0mfind_all\u001b[0m\u001b[1;33m(\u001b[0m\u001b[1;33m)\u001b[0m\u001b[1;33m[\u001b[0m\u001b[1;36m0\u001b[0m\u001b[1;33m]\u001b[0m\u001b[1;33m\u001b[0m\u001b[0m\n\u001b[0;32m      3\u001b[0m \u001b[1;32mprint\u001b[0m \u001b[0mtype\u001b[0m\u001b[1;33m(\u001b[0m\u001b[0mapp\u001b[0m\u001b[1;33m)\u001b[0m\u001b[1;33m\u001b[0m\u001b[0m\n\u001b[0;32m      4\u001b[0m \u001b[1;32mprint\u001b[0m \u001b[0mapp\u001b[0m\u001b[1;33m[\u001b[0m\u001b[1;34m'data-docid'\u001b[0m\u001b[1;33m]\u001b[0m\u001b[1;33m\u001b[0m\u001b[0m\n\u001b[0;32m      5\u001b[0m \u001b[1;33m\u001b[0m\u001b[0m\n",
      "\u001b[1;31mIndexError\u001b[0m: list index out of range"
     ]
    }
   ],
   "source": [
    "print len(x[0].find_all())\n",
    "app = x[0].find_all()[0]\n",
    "print type(app)\n",
    "print app['data-docid']\n",
    "\n",
    "app2 = x[0].find_all(class_=\"hello\")\n",
    "print type(app2)\n",
    "print app2\n",
    "\n",
    "# print y"
   ]
  },
  {
   "cell_type": "code",
   "execution_count": null,
   "metadata": {
    "collapsed": false,
    "scrolled": true
   },
   "outputs": [],
   "source": []
  },
  {
   "cell_type": "code",
   "execution_count": 137,
   "metadata": {
    "collapsed": false
   },
   "outputs": [],
   "source": [
    "for i in y[0]:\n",
    "    try:\n",
    "        print i['data-docid']\n",
    "    except:\n",
    "        pass"
   ]
  },
  {
   "cell_type": "code",
   "execution_count": 369,
   "metadata": {
    "collapsed": false,
    "scrolled": true
   },
   "outputs": [
    {
     "ename": "IndexError",
     "evalue": "list index out of range",
     "output_type": "error",
     "traceback": [
      "\u001b[1;31m---------------------------------------------------------------------------\u001b[0m",
      "\u001b[1;31mIndexError\u001b[0m                                Traceback (most recent call last)",
      "\u001b[1;32m<ipython-input-369-545ca530a092>\u001b[0m in \u001b[0;36m<module>\u001b[1;34m()\u001b[0m\n\u001b[1;32m----> 1\u001b[1;33m \u001b[1;32mprint\u001b[0m \u001b[0mtype\u001b[0m\u001b[1;33m(\u001b[0m\u001b[0mx\u001b[0m\u001b[1;33m[\u001b[0m\u001b[1;36m0\u001b[0m\u001b[1;33m]\u001b[0m\u001b[1;33m.\u001b[0m\u001b[0mfindAll\u001b[0m\u001b[1;33m(\u001b[0m\u001b[1;34m\"div\"\u001b[0m\u001b[1;33m)\u001b[0m\u001b[1;33m)\u001b[0m\u001b[1;33m\u001b[0m\u001b[0m\n\u001b[0m\u001b[0;32m      2\u001b[0m \u001b[0mres1\u001b[0m \u001b[1;33m=\u001b[0m \u001b[0mx\u001b[0m\u001b[1;33m[\u001b[0m\u001b[1;36m0\u001b[0m\u001b[1;33m]\u001b[0m\u001b[1;33m.\u001b[0m\u001b[0mfindAll\u001b[0m\u001b[1;33m(\u001b[0m\u001b[1;34m\"div\"\u001b[0m\u001b[1;33m)\u001b[0m\u001b[1;33m[\u001b[0m\u001b[1;36m0\u001b[0m\u001b[1;33m]\u001b[0m\u001b[1;33m\u001b[0m\u001b[0m\n\u001b[0;32m      3\u001b[0m \u001b[1;32mprint\u001b[0m \u001b[0mtype\u001b[0m\u001b[1;33m(\u001b[0m\u001b[0mres1\u001b[0m\u001b[1;33m)\u001b[0m\u001b[1;33m\u001b[0m\u001b[0m\n\u001b[0;32m      4\u001b[0m \u001b[1;32mfor\u001b[0m \u001b[0mres\u001b[0m \u001b[1;32min\u001b[0m \u001b[0mx\u001b[0m\u001b[1;33m[\u001b[0m\u001b[1;36m0\u001b[0m\u001b[1;33m]\u001b[0m\u001b[1;33m.\u001b[0m\u001b[0mfindAll\u001b[0m\u001b[1;33m(\u001b[0m\u001b[1;34m\"div\"\u001b[0m\u001b[1;33m)\u001b[0m\u001b[1;33m:\u001b[0m\u001b[1;33m\u001b[0m\u001b[0m\n\u001b[0;32m      5\u001b[0m     \u001b[1;32mif\u001b[0m \u001b[0mres\u001b[0m\u001b[1;33m[\u001b[0m\u001b[1;34m'class'\u001b[0m\u001b[1;33m]\u001b[0m\u001b[1;33m==\u001b[0m\u001b[1;33m[\u001b[0m\u001b[1;34m'card'\u001b[0m\u001b[1;33m,\u001b[0m \u001b[1;34m'no-rationale'\u001b[0m\u001b[1;33m,\u001b[0m \u001b[1;34m'square-cover'\u001b[0m\u001b[1;33m,\u001b[0m \u001b[1;34m'apps'\u001b[0m\u001b[1;33m,\u001b[0m \u001b[1;34m'small'\u001b[0m\u001b[1;33m]\u001b[0m\u001b[1;33m:\u001b[0m\u001b[1;33m\u001b[0m\u001b[0m\n",
      "\u001b[1;31mIndexError\u001b[0m: list index out of range"
     ]
    }
   ],
   "source": [
    "print type(x[0].findAll(\"div\"))\n",
    "res1 = x[0].findAll(\"div\")[0]\n",
    "print type(res1)\n",
    "for res in x[0].findAll(\"div\"):\n",
    "    if res['class']==['card', 'no-rationale', 'square-cover', 'apps', 'small']:\n",
    "        print res['data-docid']"
   ]
  },
  {
   "cell_type": "code",
   "execution_count": 352,
   "metadata": {
    "collapsed": false,
    "scrolled": true
   },
   "outputs": [],
   "source": [
    "#NOW, working on extracting the info for each app\n",
    "# query = \"angry+birds\"\n",
    "url = \"https://play.google.com/store/apps/details?id=nl.tijdschrift\"\n",
    "r = requests.get(url, headers={\n",
    "    \"User-Agent\": \"Mozilla/5.0 (Macintosh; Intel Mac OS X 10_11_4) AppleWebKit/537.36 (KHTML, like Gecko) Chrome/50.0.2661.94 Safari/537.36\"\n",
    "})\n",
    "html = r.content"
   ]
  },
  {
   "cell_type": "code",
   "execution_count": 356,
   "metadata": {
    "collapsed": false
   },
   "outputs": [
    {
     "ename": "TypeError",
     "evalue": "'NoneType' object is not callable",
     "output_type": "error",
     "traceback": [
      "\u001b[1;31m---------------------------------------------------------------------------\u001b[0m",
      "\u001b[1;31mTypeError\u001b[0m                                 Traceback (most recent call last)",
      "\u001b[1;32m<ipython-input-356-3c0e9a77bde8>\u001b[0m in \u001b[0;36m<module>\u001b[1;34m()\u001b[0m\n\u001b[0;32m      1\u001b[0m \u001b[0msoup\u001b[0m \u001b[1;33m=\u001b[0m \u001b[0mBeautifulSoup\u001b[0m\u001b[1;33m(\u001b[0m\u001b[0mhtml\u001b[0m\u001b[1;33m,\u001b[0m \u001b[1;34m\"html.parser\"\u001b[0m\u001b[1;33m)\u001b[0m\u001b[1;33m\u001b[0m\u001b[0m\n\u001b[1;32m----> 2\u001b[1;33m \u001b[0mrating\u001b[0m \u001b[1;33m=\u001b[0m \u001b[0msoup\u001b[0m\u001b[1;33m.\u001b[0m\u001b[0mselect_one\u001b[0m\u001b[1;33m(\u001b[0m\u001b[1;34m\".document-subtitle .star-rating-non-editable-container\"\u001b[0m\u001b[1;33m)\u001b[0m\u001b[1;33m[\u001b[0m\u001b[1;34m\"aria-label\"\u001b[0m\u001b[1;33m]\u001b[0m\u001b[1;33m\u001b[0m\u001b[0m\n\u001b[0m\u001b[0;32m      3\u001b[0m \u001b[1;32mprint\u001b[0m \u001b[0mrating\u001b[0m\u001b[1;33m\u001b[0m\u001b[0m\n",
      "\u001b[1;31mTypeError\u001b[0m: 'NoneType' object is not callable"
     ]
    }
   ],
   "source": [
    "soup = BeautifulSoup(html, \"html.parser\")\n",
    "rating = soup.select_one(\".document-subtitle .star-rating-non-editable-container\")[\"aria-label\"]\n",
    "print rating"
   ]
  },
  {
   "cell_type": "code",
   "execution_count": 354,
   "metadata": {
    "collapsed": false
   },
   "outputs": [
    {
     "name": "stdout",
     "output_type": "stream",
     "text": [
      "0\n"
     ]
    }
   ],
   "source": [
    "soup = BeautifulSoup(html)\n",
    "l = soup.find_all(\"div\", { \"class\" : \"document-subtitles\"})\n",
    "print len(l)"
   ]
  },
  {
   "cell_type": "code",
   "execution_count": 355,
   "metadata": {
    "collapsed": false
   },
   "outputs": [
    {
     "name": "stdout",
     "output_type": "stream",
     "text": [
      "[]\n"
     ]
    }
   ],
   "source": [
    "i = soup.select('html body.no-focus-outline.sidebar-visible.user-has-no-subscription div#wrapper.wrapper.wrapper-with-footer div#body-content.body-content div.outer-container div.inner-container div.main-content div div.details-wrapper.apps.square-cover.id-track-partial-impression.id-deep-link-item div.details-info div.info-container div.info-box-top')\n",
    "print i"
   ]
  },
  {
   "cell_type": "code",
   "execution_count": 349,
   "metadata": {
    "collapsed": false,
    "scrolled": true
   },
   "outputs": [
    {
     "name": "stdout",
     "output_type": "stream",
     "text": [
      "[]\n"
     ]
    }
   ],
   "source": [
    "x = soup.find_all(class_=\"main-content\")\n",
    "print x\n"
   ]
  },
  {
   "cell_type": "code",
   "execution_count": 350,
   "metadata": {
    "collapsed": false,
    "scrolled": true
   },
   "outputs": [],
   "source": [
    "for res in soup.find_all(\"div\"):\n",
    "    try:\n",
    "        print res['class']\n",
    "    except:\n",
    "        pass"
   ]
  },
  {
   "cell_type": "code",
   "execution_count": 351,
   "metadata": {
    "collapsed": false,
    "scrolled": true
   },
   "outputs": [
    {
     "ename": "NameError",
     "evalue": "name 'one' is not defined",
     "output_type": "error",
     "traceback": [
      "\u001b[1;31m---------------------------------------------------------------------------\u001b[0m",
      "\u001b[1;31mNameError\u001b[0m                                 Traceback (most recent call last)",
      "\u001b[1;32m<ipython-input-351-c0ca4ff614d2>\u001b[0m in \u001b[0;36m<module>\u001b[1;34m()\u001b[0m\n\u001b[0;32m      1\u001b[0m \u001b[0mtone\u001b[0m \u001b[1;33m=\u001b[0m \u001b[0msoup\u001b[0m\u001b[1;33m.\u001b[0m\u001b[0mfindAll\u001b[0m\u001b[1;33m(\u001b[0m\u001b[1;34m\"div\"\u001b[0m\u001b[1;33m,\u001b[0m \u001b[1;33m{\u001b[0m\u001b[1;34m\"class\"\u001b[0m\u001b[1;33m:\u001b[0m\u001b[1;34m\"details-info\"\u001b[0m\u001b[1;33m}\u001b[0m\u001b[1;33m)\u001b[0m\u001b[1;33m\u001b[0m\u001b[0m\n\u001b[1;32m----> 2\u001b[1;33m \u001b[1;32mfor\u001b[0m \u001b[0mi\u001b[0m \u001b[1;32min\u001b[0m \u001b[0mone\u001b[0m\u001b[1;33m:\u001b[0m\u001b[1;33m\u001b[0m\u001b[0m\n\u001b[0m\u001b[0;32m      3\u001b[0m     \u001b[1;32mprint\u001b[0m \u001b[0mi\u001b[0m\u001b[1;33m\u001b[0m\u001b[0m\n",
      "\u001b[1;31mNameError\u001b[0m: name 'one' is not defined"
     ]
    }
   ],
   "source": [
    "tone = soup.findAll(\"div\", {\"class\":\"details-info\"})\n",
    "for i in one:\n",
    "    print i"
   ]
  },
  {
   "cell_type": "code",
   "execution_count": 300,
   "metadata": {
    "collapsed": false,
    "scrolled": true
   },
   "outputs": [
    {
     "name": "stdout",
     "output_type": "stream",
     "text": [
      "2 2\n"
     ]
    }
   ],
   "source": [
    "one = soup.findAll(\"div\", {\"class\":['wrapper', 'wrapper-with-footer']})\n",
    "two = one[0].findAll(\"div\", {\"id\":'body-content'})\n",
    "print len(one), len(two)"
   ]
  },
  {
   "cell_type": "code",
   "execution_count": 301,
   "metadata": {
    "collapsed": false
   },
   "outputs": [
    {
     "name": "stdout",
     "output_type": "stream",
     "text": [
      "2\n",
      "2\n",
      "0\n"
     ]
    }
   ],
   "source": [
    "three= two[0].findAll(\"div\", {\"class\":\"main-content\"})\n",
    "print len(three)\n",
    "four = three[0].findAll(\"div\", {\"class\":\"details-info\"})\n",
    "print len(four)\n",
    "five = four[0].findAll(\"div\", {\"class\":\"info-container\"})\n",
    "print len(five)"
   ]
  },
  {
   "cell_type": "code",
   "execution_count": 302,
   "metadata": {
    "collapsed": false,
    "scrolled": true
   },
   "outputs": [
    {
     "name": "stdout",
     "output_type": "stream",
     "text": [
      "[<div class=\"body-content\" id=\"body-content\" itemscope=\"itemscope\" itemtype=\"http://schema.org/MobileApplication\" role=\"main\"><meta content=\"https://play.google.com/store/apps/details?id=com.cimaxapp.weirdfacts\" itemprop=\"url\"/><div class=\"outer-container\"><div class=\"inner-container\"><div class=\"main-content\"><div> <div class=\"details-wrapper apps square-cover id-track-partial-impression id-deep-link-item\" data-deep-link-server-cookie=\"CAQqJwgEEAMaHxIdChdjb20uY2ltYXhhcHAud2VpcmRmYWN0cxABGAMoAQ==\" data-deep-link-type=\"1\" data-docid=\"com.cimaxapp.weirdfacts\" data-server-cookie=\"CAIaIwofEh0KF2NvbS5jaW1heGFwcC53ZWlyZGZhY3RzEAEYA0IA\" data-uitype=\"209\"> <div class=\"details-info\"> <div class=\"cover-container\"> <img alt=\"Cover art\" aria-hidden=\"true\" class=\"cover-image\" itemprop=\"\" src=\"//lh5.ggpht.com/kFL5f5wX6oM0aGJNMllJPGFstM00H_h_bmbb8YCYAi0O-kUfeKvVKOgGwYBzIkIwQw=w300\">ction(){return+new Date};function aa(b,d){var a=[\"LOWLIFE_wizbind\"],c=d||f;a[0]in c||!c.execScript||c.execScript(\"var \"+a[0]);for(var e;a.length&amp;&amp;(e=a.shift());)a.length||void 0===b?c[e]?c=c[e]:c=c[e]={}:c[e]=b};function ba(b,d){if(null===d)return!1;if(\"contains\"in b&amp;&amp;1==d.nodeType)return b.contains(d);if(\"compareDocumentPosition\"in b)return b==d||!!(b.compareDocumentPosition(d)&amp;16);for(;d&amp;&amp;b!=d;)d=d.parentNode;return d==b};var v={};function ca(b,d){return function(a){a||(a=window.event);return d.call(b,a)}}function y(b){b=b.target||b.srcElement;!b.getAttribute&amp;&amp;b.parentNode&amp;&amp;(b=b.parentNode);return b}var C=\"undefined\"!=typeof navigator&amp;&amp;/Macintosh/.test(navigator.userAgent),da=\"undefined\"!=typeof navigator&amp;&amp;!/Opera/.test(navigator.userAgent)&amp;&amp;/WebKit/.test(navigator.userAgent),ea={A:1,INPUT:1,TEXTAREA:1,SELECT:1,BUTTON:1};function fa(){this._mouseEventsPrevented=!0}\n",
      "var E={A:13,BUTTON:0,CHECKBOX:32,COMBOBOX:13,GRIDCELL:13,LINK:13,LISTBOX:13,MENU:0,MENUBAR:0,MENUITEM:0,MENUITEMCHECKBOX:0,MENUITEMRADIO:0,OPTION:0,RADIO:32,RADIOGROUP:32,RESET:0,SUBMIT:0,TAB:0,TREE:13,TREEITEM:13};function F(b){return(b.getAttribute(\"type\")||b.tagName).toUpperCase()in ga}function G(b){return(b.getAttribute(\"type\")||b.tagName).toUpperCase()in ha}\n",
      "var ga={CHECKBOX:!0,OPTION:!0,RADIO:!0},ha={COLOR:!0,DATE:!0,DATETIME:!0,\"DATETIME-LOCAL\":!0,EMAIL:!0,MONTH:!0,NUMBER:!0,PASSWORD:!0,RANGE:!0,SEARCH:!0,TEL:!0,TEXT:!0,TEXTAREA:!0,TIME:!0,URL:!0,WEEK:!0},ia={A:!0,AREA:!0,BUTTON:!0,DIALOG:!0,IMG:!0,INPUT:!0,LINK:!0,MENU:!0,OPTGROUP:!0,OPTION:!0,PROGRESS:!0,SELECT:!0,TEXTAREA:!0};function H(){this.j=[];this.a=[];this.c=[];this.i={};this.b=null;this.f=[]}var ja=\"undefined\"!=typeof navigator&amp;&amp;/iPhone|iPad|iPod/.test(navigator.userAgent),I=String.prototype.trim?function(b){return b.trim()}:function(b){return b.replace(/^\\s+/,\"\").replace(/\\s+$/,\"\")},ka=/\\s*;\\s*/;function la(b,d){return function(a){var c;var e=d,n;if(\"click\"==e&amp;&amp;(C&amp;&amp;a.metaKey||!C&amp;&amp;a.ctrlKey||2==a.which||null==a.which&amp;&amp;4==a.button||a.shiftKey))e=\"clickmod\";else{var h;h=a.which||a.keyCode||a.key;da&amp;&amp;3==h&amp;&amp;(h=13);if(13!=h&amp;&amp;32!=h)h=!1;else{var l=y(a);n=(l.getAttribute(\"role\")||l.type||l.tagName).toUpperCase();var g;(g=\"keydown\"!=a.type)||(\"getAttribute\"in l?(g=(l.getAttribute(\"role\")||l.tagName).toUpperCase(),g=!G(l)&amp;&amp;(\"COMBOBOX\"!=g||\"INPUT\"!=g)&amp;&amp;!l.isContentEditable):g=!1,g=!g);(g=g||a.ctrlKey||\n",
      "a.shiftKey||a.altKey||a.metaKey||F(l)&amp;&amp;32==h)||((g=l.tagName in ea)||(g=l.getAttributeNode(\"tabindex\"),g=null!=g&amp;&amp;g.specified),g=!(g&amp;&amp;!l.disabled));g?h=!1:(l=\"INPUT\"!=l.tagName.toUpperCase()||l.type,g=!(n in E)&amp;&amp;13==h,h=(0==E[n]%h||g)&amp;&amp;!!l)}h&amp;&amp;(e=\"clickkey\")}l=a.srcElement||a.target;h=J(e,a,l,\"\",null);var p;for(n=l;n&amp;&amp;n!=this;n=n.__owner||n.parentNode){p=c=n;g=e;var q=p.__jsaction;if(!q){var w=K(p,\"jsaction\");if(w){q=v[w];if(!q){for(var q={},A=w.split(ka),B=0,z=A?A.length:0;B<z a=\"\" a.attachevent=\"\" a.type=\"\" b=\"\" c='b,e=d,n=!1;\"mouseenter\"==c?c=\"mouseover\":\"mouseleave\"==c&amp;&amp;(c=\"mouseout\");if(a.addEventListener){if(\"focus\"==c||\"blur\"==c||\"error\"==c||\"load\"==c)n=!0;a.addEventListener(c,e,n)}else' c.actionelement.tagname=\"\" d=\"\" e=\"{},r;for(r\" function=\"\" h=\"\" h.action=\"\" ia=\"\" if=\"\" in=\"\" j=\"\" k=\"\" l=\"\" m=\"\" ma=\"{};function\" na=\"\" o=\"\" oa=\"N.c.concat(N.a),T=[],U=[],V=0;V&lt;N.a.length;++V){var\" p=\"N.a[V];if(O()){T.push(P);for(var\" pa=\"\" q='ma,p.__jsaction=q}\"clickkey\"==g?g=\"click\":\"click\"!=g||q.click||(g=\"clickonly\");p={h:g,action:q[g]||\"\",event:null,m:!1};if(p.m||p.action)break}p&amp;&amp;(h=J(p.h,p.event||a,l,p.action||' qa=\"window,N=new\" s=\"0;S&lt;N.a.length;S++)if(pa(N.a[S].a,sa)){R=!0;break\" t=\"A[B];if(t){var\" this.i=\"\" u='t.indexOf(\":\"),x=-1!=u,k=x?I(t.substr(0,u)):\"click\",t=x?I(t.substr(u+1)):t;q[k]=t}}v[w]=q}w=q;q={};for(k' u.push=\"\" ua=\"\" w=\"\" y='W.a,Z=W.b[X];Y.removeEventListener?Y.removeEventListener(Z.h,Z.g,Z.l):Y.detachEvent&amp;&amp;Y.detachEvent(\"on\"+Z.h,Z.g)}W.b=[]}else'><meta content=\"IE=10\" http-equiv=\"X-UA-Compatible\"/><link href=\"/store/opensearch.xml?hl=en_GB\" rel=\"search\" title=\"Google Play\" type=\"application/opensearchdescription+xml\"/><link href=\"android-app://com.android.vending/https/play.google.com/store/apps/details?id=com.cimaxapp.weirdfacts\" rel=\"alternate\"/><meta content=\"PJKdyVFC5jlu_l8Wo_hirJkhs1cmitmn44fgpOc3zFc\" name=\"google-site-verification\"/><meta content=\"A6H2WZG5rRIUFFopIQcyPeabS5ffxhFlhTiyhzWGPRA\" name=\"google-site-verification\"/><style type=\"text/css\">#gbar,#guser{font-size:13px;padding-top:0px !important;}#gbar{height:22px}#guser{padding-bottom:7px !important;text-align:right}.gbh,.gbd{border-top:1px solid #c9d7f1;font-size:1px}.gbh{height:0;position:absolute;top:24px;width:100%}@media all{.gb1{height:22px;margin-right:.5em;vertical-align:top}#gbar{float:left}}a.gb1,a.gb4{text-decoration:underline !important}a.gb1,a.gb4{color:#00c !important}.gbi .gb4{color:#dd8e27 !important}.gbf .gb4{color:#900 !important}\n",
      "</style><style type=\"text/css\">@font-face {\n",
      "  font-family: 'Roboto';\n",
      "  font-style: normal;\n",
      "  font-weight: 100;\n",
      "  src: local('Roboto Thin'), local('Roboto-Thin'), url(//fonts.gstatic.com/s/roboto/v15/Jzo62I39jc0gQRrbndN6nfesZW2xOQ-xsNqO47m55DA.ttf) format('truetype');\n",
      "}\n",
      "@font-face {\n",
      "  font-family: 'Roboto';\n",
      "  font-style: normal;\n",
      "  font-weight: 300;\n",
      "  src: local('Roboto Light'), local('Roboto-Light'), url(//fonts.gstatic.com/s/roboto/v15/Hgo13k-tfSpn0qi1SFdUfaCWcynf_cDxXwCLxiixG1c.ttf) format('truetype');\n",
      "}\n",
      "@font-face {\n",
      "  font-family: 'Roboto';\n",
      "  font-style: normal;\n",
      "  font-weight: 400;\n",
      "  src: local('Roboto Regular'), local('Roboto-Regular'), url(//fonts.gstatic.com/s/roboto/v15/zN7GBFwfMP4uA6AR0HCoLQ.ttf) format('truetype');\n",
      "}\n",
      "@font-face {\n",
      "  font-family: 'Roboto';\n",
      "  font-style: normal;\n",
      "  font-weight: 500;\n",
      "  src: local('Roboto Medium'), local('Roboto-Medium'), url(//fonts.gstatic.com/s/roboto/v15/RxZJdnzeo3R5zSexge8UUaCWcynf_cDxXwCLxiixG1c.ttf) format('truetype');\n",
      "}\n",
      "@font-face {\n",
      "  font-family: 'Roboto';\n",
      "  font-style: normal;\n",
      "  font-weight: 700;\n",
      "  src: local('Roboto Bold'), local('Roboto-Bold'), url(//fonts.gstatic.com/s/roboto/v15/d-6IYplOFocCacKzxwXSOKCWcynf_cDxXwCLxiixG1c.ttf) format('truetype');\n",
      "}\n",
      "@font-face {\n",
      "  font-family: 'Roboto';\n",
      "  font-style: italic;\n",
      "  font-weight: 100;\n",
      "  src: local('Roboto Thin Italic'), local('Roboto-ThinItalic'), url(//fonts.gstatic.com/s/roboto/v15/12mE4jfMSBTmg-81EiS-YS3USBnSvpkopQaUR-2r7iU.ttf) format('truetype');\n",
      "}\n",
      "@font-face {\n",
      "  font-family: 'Roboto';\n",
      "  font-style: italic;\n",
      "  font-weight: 300;\n",
      "  src: local('Roboto Light Italic'), local('Roboto-LightItalic'), url(//fonts.gstatic.com/s/roboto/v15/7m8l7TlFO-S3VkhHuR0at50EAVxt0G0biEntp43Qt6E.ttf) format('truetype');\n",
      "}\n",
      "@font-face {\n",
      "  font-family: 'Roboto';\n",
      "  font-style: italic;\n",
      "  font-weight: 400;\n",
      "  src: local('Roboto Italic'), local('Roboto-Italic'), url(//fonts.gstatic.com/s/roboto/v15/W4wDsBUluyw0tK3tykhXEfesZW2xOQ-xsNqO47m55DA.ttf) format('truetype');\n",
      "}\n",
      "@font-face {\n",
      "  font-family: 'Roboto Slab';\n",
      "  font-style: normal;\n",
      "  font-weight: 100;\n",
      "  src: local('Roboto Slab Thin'), local('RobotoSlab-Thin'), url(//fonts.gstatic.com/s/robotoslab/v6/MEz38VLIFL-t46JUtkIEgH4UHu-c0cTZKOwO_f6u1Os.ttf) format('truetype');\n",
      "}\n",
      "@font-face {\n",
      "  font-family: 'Roboto Slab';\n",
      "  font-style: normal;\n",
      "  font-weight: 300;\n",
      "  src: local('Roboto Slab Light'), local('RobotoSlab-Light'), url(//fonts.gstatic.com/s/robotoslab/v6/dazS1PrQQuCxC3iOAJFEJbfB31yxOzP-czbf6AAKCVo.ttf) format('truetype');\n",
      "}\n",
      "@font-face {\n",
      "  font-family: 'Roboto Slab';\n",
      "  font-style: normal;\n",
      "  font-weight: 400;\n",
      "  src: local('Roboto Slab Regular'), local('RobotoSlab-Regular'), url(//fonts.gstatic.com/s/robotoslab/v6/y7lebkjgREBJK96VQi37Zp0EAVxt0G0biEntp43Qt6E.ttf) format('truetype');\n",
      "}\n",
      "@font-face {\n",
      "  font-family: 'Roboto Slab';\n",
      "  font-style: normal;\n",
      "  font-weight: 700;\n",
      "  src: local('Roboto Slab Bold'), local('RobotoSlab-Bold'), url(//fonts.gstatic.com/s/robotoslab/v6/dazS1PrQQuCxC3iOAJFEJZ_TkvowlIOtbR7ePgFOpF4.ttf) format('truetype');\n",
      "}\n",
      "</style><link href=\"//www.gstatic.com/_/play/_/ss/k=play.ss.1it4tzoc0qi2i.L.W.O/m=l/d=0/rs=AGlW0sZCl92PS1uOuvwHPJvBTklOGg-hOw\" rel=\"stylesheet\" type=\"text/css\"/><link href=\"//www.gstatic.com/_/play/_/ss/k=play.ss.1it4tzoc0qi2i.L.W.O/m=l2/d=0/excm=l/ed=1/rs=AGlW0sZCl92PS1uOuvwHPJvBTklOGg-hOw\" rel=\"stylesheet\" type=\"text/css\"/><link href=\"//www.gstatic.com/android/market_images/web/favicon_v2.ico\" rel=\"shortcut icon\"/><script type=\"text/javascript\"></script><title id=\"main-title\">Weird Facts â€“ Android Apps on Google Play</title><meta content=\"Enjoy millions of the latest Android apps, games, music, movies, TV, books, magazines &amp; more. Any time, anywhere, across your devices.\" name=\"description\"/><meta content=\"NOODP\" name=\"robots\"/><link href=\"https://play.google.com/store/apps/details?id=com.cimaxapp.weirdfacts\" rel=\"canonical\"/><link href=\"https://play.google.com/store/apps/details?id=com.cimaxapp.weirdfacts\" hreflang=\"x-default\" rel=\"alternate\"/><link href=\"https://play.google.com/store/apps/details?id=com.cimaxapp.weirdfacts&amp;hl=af\" hreflang=\"af\" rel=\"alternate\"/><link href=\"https://play.google.com/store/apps/details?id=com.cimaxapp.weirdfacts&amp;hl=ms\" hreflang=\"ms\" rel=\"alternate\"/><link href=\"https://play.google.com/store/apps/details?id=com.cimaxapp.weirdfacts&amp;hl=ca\" hreflang=\"ca\" rel=\"alternate\"/><link href=\"https://play.google.com/store/apps/details?id=com.cimaxapp.weirdfacts&amp;hl=cs\" hreflang=\"cs\" rel=\"alternate\"/><link href=\"https://play.google.com/store/apps/details?id=com.cimaxapp.weirdfacts&amp;hl=da\" hreflang=\"da\" rel=\"alternate\"/><link href=\"https://play.google.com/store/apps/details?id=com.cimaxapp.weirdfacts&amp;hl=de\" hreflang=\"de\" rel=\"alternate\"/><link href=\"https://play.google.com/store/apps/details?id=com.cimaxapp.weirdfacts&amp;hl=et\" hreflang=\"et\" rel=\"alternate\"/><link href=\"https://play.google.com/store/apps/details?id=com.cimaxapp.weirdfacts&amp;hl=en_GB\" hreflang=\"en_GB\" rel=\"alternate\"/><link href=\"https://play.google.com/store/apps/details?id=com.cimaxapp.weirdfacts&amp;hl=en\" hreflang=\"en\" rel=\"alternate\"/><link href=\"https://play.google.com/store/apps/details?id=com.cimaxapp.weirdfacts&amp;hl=es\" hreflang=\"es\" rel=\"alternate\"/><link href=\"https://play.google.com/store/apps/details?id=com.cimaxapp.weirdfacts&amp;hl=es_419\" hreflang=\"es_419\" rel=\"alternate\"/><link href=\"https://play.google.com/store/apps/details?id=com.cimaxapp.weirdfacts&amp;hl=fil\" hreflang=\"fil\" rel=\"alternate\"/><link href=\"https://play.google.com/store/apps/details?id=com.cimaxapp.weirdfacts&amp;hl=fr_CA\" hreflang=\"fr_CA\" rel=\"alternate\"/><link href=\"https://play.google.com/store/apps/details?id=com.cimaxapp.weirdfacts&amp;hl=fr\" hreflang=\"fr\" rel=\"alternate\"/><link href=\"https://play.google.com/store/apps/details?id=com.cimaxapp.weirdfacts&amp;hl=hr\" hreflang=\"hr\" rel=\"alternate\"/><link href=\"https://play.google.com/store/apps/details?id=com.cimaxapp.weirdfacts&amp;hl=in\" hreflang=\"in\" rel=\"alternate\"/><link href=\"https://play.google.com/store/apps/details?id=com.cimaxapp.weirdfacts&amp;hl=zu\" hreflang=\"zu\" rel=\"alternate\"/><link href=\"https://play.google.com/store/apps/details?id=com.cimaxapp.weirdfacts&amp;hl=it\" hreflang=\"it\" rel=\"alternate\"/><link href=\"https://play.google.com/store/apps/details?id=com.cimaxapp.weirdfacts&amp;hl=sw\" hreflang=\"sw\" rel=\"alternate\"/><link href=\"https://play.google.com/store/apps/details?id=com.cimaxapp.weirdfacts&amp;hl=lv\" hreflang=\"lv\" rel=\"alternate\"/><link href=\"https://play.google.com/store/apps/details?id=com.cimaxapp.weirdfacts&amp;hl=lt\" hreflang=\"lt\" rel=\"alternate\"/><link href=\"https://play.google.com/store/apps/details?id=com.cimaxapp.weirdfacts&amp;hl=hu\" hreflang=\"hu\" rel=\"alternate\"/><link href=\"https://play.google.com/store/apps/details?id=com.cimaxapp.weirdfacts&amp;hl=nl\" hreflang=\"nl\" rel=\"alternate\"/><link href=\"https://play.google.com/store/apps/details?id=com.cimaxapp.weirdfacts&amp;hl=no\" hreflang=\"no\" rel=\"alternate\"/><link href=\"https://play.google.com/store/apps/details?id=com.cimaxapp.weirdfacts&amp;hl=pl\" hreflang=\"pl\" rel=\"alternate\"/><link href=\"https://play.google.com/store/apps/details?id=com.cimaxapp.weirdfacts&amp;hl=pt_BR\" hreflang=\"pt_BR\" rel=\"alternate\"/><link href=\"https://play.google.com/store/apps/details?id=com.cimaxapp.weirdfacts&amp;hl=pt_PT\" hreflang=\"pt_PT\" rel=\"alternate\"/><link href=\"https://play.google.com/store/apps/details?id=com.cimaxapp.weirdfacts&amp;hl=ro\" hreflang=\"ro\" rel=\"alternate\"/><link href=\"https://play.google.com/store/apps/details?id=com.cimaxapp.weirdfacts&amp;hl=sk\" hreflang=\"sk\" rel=\"alternate\"/><link href=\"https://play.google.com/store/apps/details?id=com.cimaxapp.weirdfacts&amp;hl=sl\" hreflang=\"sl\" rel=\"alternate\"/><link href=\"https://play.google.com/store/apps/details?id=com.cimaxapp.weirdfacts&amp;hl=fi\" hreflang=\"fi\" rel=\"alternate\"/><link href=\"https://play.google.com/store/apps/details?id=com.cimaxapp.weirdfacts&amp;hl=sv\" hreflang=\"sv\" rel=\"alternate\"/><link href=\"https://play.google.com/store/apps/details?id=com.cimaxapp.weirdfacts&amp;hl=vi\" hreflang=\"vi\" rel=\"alternate\"/><link href=\"https://play.google.com/store/apps/details?id=com.cimaxapp.weirdfacts&amp;hl=tr\" hreflang=\"tr\" rel=\"alternate\"/><link href=\"https://play.google.com/store/apps/details?id=com.cimaxapp.weirdfacts&amp;hl=el\" hreflang=\"el\" rel=\"alternate\"/><link href=\"https://play.google.com/store/apps/details?id=com.cimaxapp.weirdfacts&amp;hl=be\" hreflang=\"be\" rel=\"alternate\"/><link href=\"https://play.google.com/store/apps/details?id=com.cimaxapp.weirdfacts&amp;hl=bg\" hreflang=\"bg\" rel=\"alternate\"/><link href=\"https://play.google.com/store/apps/details?id=com.cimaxapp.weirdfacts&amp;hl=ru\" hreflang=\"ru\" rel=\"alternate\"/><link href=\"https://play.google.com/store/apps/details?id=com.cimaxapp.weirdfacts&amp;hl=sr\" hreflang=\"sr\" rel=\"alternate\"/><link href=\"https://play.google.com/store/apps/details?id=com.cimaxapp.weirdfacts&amp;hl=uk\" hreflang=\"uk\" rel=\"alternate\"/><link href=\"https://play.google.com/store/apps/details?id=com.cimaxapp.weirdfacts&amp;hl=ar\" hreflang=\"ar\" rel=\"alternate\"/><link href=\"https://play.google.com/store/apps/details?id=com.cimaxapp.weirdfacts&amp;hl=am\" hreflang=\"am\" rel=\"alternate\"/><link href=\"https://play.google.com/store/apps/details?id=com.cimaxapp.weirdfacts&amp;hl=hi\" hreflang=\"hi\" rel=\"alternate\"/><link href=\"https://play.google.com/store/apps/details?id=com.cimaxapp.weirdfacts&amp;hl=th\" hreflang=\"th\" rel=\"alternate\"/><link href=\"https://play.google.com/store/apps/details?id=com.cimaxapp.weirdfacts&amp;hl=ko\" hreflang=\"ko\" rel=\"alternate\"/><link href=\"https://play.google.com/store/apps/details?id=com.cimaxapp.weirdfacts&amp;hl=zh_HK\" hreflang=\"zh_HK\" rel=\"alternate\"/><link href=\"https://play.google.com/store/apps/details?id=com.cimaxapp.weirdfacts&amp;hl=ja\" hreflang=\"ja\" rel=\"alternate\"/><link href=\"https://play.google.com/store/apps/details?id=com.cimaxapp.weirdfacts&amp;hl=zh_CN\" hreflang=\"zh_CN\" rel=\"alternate\"/><link href=\"https://play.google.com/store/apps/details?id=com.cimaxapp.weirdfacts&amp;hl=zh_TW\" hreflang=\"zh_TW\" rel=\"alternate\"/><meta content=\"website\" property=\"og:type\"/><meta content=\"Weird Facts â€“ Android Apps on Google Play\" property=\"og:title\"/><meta content=\"https://play.google.com/store/apps/details?id=com.cimaxapp.weirdfacts\" property=\"og:url\"/><script type=\"text/javascript\">(function(){var trackingId='UA-19995903-1';(function(i,s,o,g,r,a,m){i['GoogleAnalyticsObject']=r;i[r]=i[r]||function(){(i[r].q=i[r].q||[]).push(arguments)},i[r].l=1*new Date();a=s.createElement(o),m=s.getElementsByTagName(o)[0];a.async=1;a.src=g;m.parentNode.insertBefore(a,m)\n",
      "})(window,document,'script','//www.google-analytics.com/analytics.js','play_ga');play_ga('create',trackingId);})();</script><div class=\"exports-controller\" jsaction=\"rcuQ6b:rcuQ6b\" jscontroller=\"nW6Ps\"> <div aria-hidden=\"true\" jsaction=\"rcuQ6b:rcuQ6b\" jscontroller=\"Oqzoie\" jsid=\"cWJEXd\" style=\"display:none\"></div> <div aria-hidden=\"true\" jscontroller=\"GwTZHe\" jsname=\"YBV3Qc\" style=\"display:none\"></div> <div aria-hidden=\"true\" jsaction=\"rcuQ6b:rcuQ6b\" jscontroller=\"ruD2Lc\" jsid=\"ckLvgd\" style=\"display:none\"></div> <div aria-hidden=\"true\" jsaction=\"rcuQ6b:rcuQ6b\" jscontroller=\"kPgATb\" jsid=\"bpGqMc\" style=\"display:none\"></div> <div aria-hidden=\"true\" jsaction=\"rcuQ6b:rcuQ6b\" jscontroller=\"lW11I\" jsid=\"Kyke\" style=\"display:none\"></div> <div aria-hidden=\"true\" jscontroller=\"sZzYte\" jsname=\"j8fyN\" style=\"display:none\"></div> <div aria-hidden=\"true\" jscontroller=\"qoVwNc\" jsname=\"bXVAae\" style=\"display:none\"></div> <div aria-hidden=\"true\" jsaction=\"rcuQ6b:rcuQ6b\" jscontroller=\"DSu7Id\" jsid=\"s1WrZb\" style=\"display:none\"></div> <div aria-hidden=\"true\" jsaction=\"rcuQ6b:rcuQ6b\" jscontroller=\"KrKwmf\" jsid=\"oN63A\" style=\"display:none\"></div> <div aria-hidden=\"true\" jsaction=\"rcuQ6b:rcuQ6b\" jscontroller=\"XyGpve\" jsid=\"DjeHHf\" style=\"display:none\"></div> <div aria-hidden=\"true\" jsaction=\"rcuQ6b:rcuQ6b\" jscontroller=\"eDmQYe\" jsid=\"kv4dP\" style=\"display:none\"></div> <div aria-hidden=\"true\" jsaction=\"rcuQ6b:rcuQ6b\" jscontroller=\"l88Qmf\" jsid=\"F0Shh\" style=\"display:none\"></div> <div aria-hidden=\"true\" jsaction=\"rcuQ6b:rcuQ6b\" jscontroller=\"bsXnnd\" jsid=\"vebwY\" style=\"display:none\"></div> <div aria-hidden=\"true\" jsaction=\"rcuQ6b:rcuQ6b\" jscontroller=\"r8KIR\" jsid=\"RrzaCb\" style=\"display:none\"></div> <div aria-hidden=\"true\" jsaction=\"rcuQ6b:rcuQ6b\" jscontroller=\"MTZ8td\" jsid=\"lj1M3d\" style=\"display:none\"></div> <div aria-hidden=\"true\" jsaction=\"rcuQ6b:rcuQ6b\" jscontroller=\"PsOe6e\" jsid=\"uRW8Hc\" style=\"display:none\"></div> <div aria-hidden=\"true\" jsaction=\"rcuQ6b:rcuQ6b\" jscontroller=\"ZzwEmb\" jsid=\"tz9uec\" style=\"display:none\"></div> <div aria-hidden=\"true\" jsaction=\"rcuQ6b:rcuQ6b\" jscontroller=\"HozgP\" jsid=\"BAnWfc\" style=\"display:none\"></div> <div aria-hidden=\"true\" jsaction=\"rcuQ6b:rcuQ6b\" jscontroller=\"AO5Sn\" jsname=\"iTLdMd\" style=\"display:none\"></div> <div aria-hidden=\"true\" jsaction=\"rcuQ6b:rcuQ6b\" jscontroller=\"TfvoCd\" jsid=\"IIjvCf\" style=\"display:none\"></div> <div aria-hidden=\"true\" jsaction=\"rcuQ6b:rcuQ6b\" jscontroller=\"KIL8ye\" jsid=\"kbwoAc\" style=\"display:none\"></div> <div aria-hidden=\"true\" jsaction=\"rcuQ6b:rcuQ6b\" jscontroller=\"Mdud6e\" jsid=\"KdZzQc\" style=\"display:none\"></div> <div aria-hidden=\"true\" jsaction=\"rcuQ6b:WaUj5e\" jscontroller=\"UHw3ec\" jsid=\"LKidnb\" style=\"display:none\"></div> <div aria-hidden=\"true\" jsaction=\"rcuQ6b:rcuQ6b\" jscontroller=\"ytepuf\" jsid=\"sVkCQd\" style=\"display:none\"></div> <div aria-hidden=\"true\" jsaction=\"rcuQ6b:rcuQ6b\" jscontroller=\"ikRapd\" jsid=\"wr9wlf\" style=\"display:none\"></div> <div aria-hidden=\"true\" jsaction=\"rcuQ6b:rcuQ6b\" jscontroller=\"vhibMc\" jsname=\"YZUbh\" style=\"display:none\"></div> <div aria-hidden=\"true\" jsaction=\"rcuQ6b:rcuQ6b\" jscontroller=\"kaKwge\" jsname=\"SxWQk\" style=\"display:none\"></div> <div aria-hidden=\"true\" jsaction=\"rcuQ6b:rcuQ6b\" jscontroller=\"a9ZUbe\" jsid=\"RnalDd\" style=\"display:none\"></div> <div aria-hidden=\"true\" jsaction=\"rcuQ6b:Rayp9d\" jscontroller=\"C9GUfc\" jsid=\"tu7Lvd\" style=\"display:none\"></div> <div aria-hidden=\"true\" jsaction=\"rcuQ6b:rcuQ6b\" jscontroller=\"epH9Oe\" jsid=\"bWnBoe\" style=\"display:none\"></div> <div aria-hidden=\"true\" jsaction=\"rcuQ6b:rcuQ6b\" jscontroller=\"bPmHCb\" jsid=\"qtBlid\" style=\"display:none\"></div> <div aria-hidden=\"true\" jsaction=\"rcuQ6b:rcuQ6b\" jscontroller=\"QA6GN\" jsname=\"Q9oe6\" style=\"display:none\"></div> <div aria-hidden=\"true\" jsaction=\"rcuQ6b:rcuQ6b\" jscontroller=\"cFXAie\" jsid=\"HytyXe\" style=\"display:none\"></div> <div aria-hidden=\"true\" jsaction=\"rcuQ6b:rcuQ6b\" jscontroller=\"JrpMz\" jsid=\"aA8rpd\" style=\"display:none\"></div> <div aria-hidden=\"true\" jsaction=\"rcuQ6b:rcuQ6b\" jscontroller=\"vDC9tb\" jsid=\"BeORrc\" style=\"display:none\"></div> <div aria-hidden=\"true\" jsaction=\"rcuQ6b:rcuQ6b\" jscontroller=\"XO8nne\" jsid=\"WGUPf\" style=\"display:none\"></div> <div aria-hidden=\"true\" jscontroller=\"WeJJhe\" jsname=\"yvOiYb\" style=\"display:none\"></div> <div aria-hidden=\"true\" jsaction=\"rcuQ6b:rcuQ6b\" jscontroller=\"n0yTLc\" jsid=\"nYgjCf\" style=\"display:none\"></div> <div aria-hidden=\"true\" jscontroller=\"SmMcVd\" jsname=\"mzgKYb\" style=\"display:none\"></div> <div aria-hidden=\"true\" jscontroller=\"l8Wiqc\" jsname=\"rq3vtb\" style=\"display:none\"></div> <div aria-hidden=\"true\" jscontroller=\"Twm5Zc\" jsname=\"x5Ei5c\" style=\"display:none\"></div> <div aria-hidden=\"true\" jsaction=\"rcuQ6b:rcuQ6b\" jscontroller=\"Nqs1f\" jsid=\"fEGBrd\" jsname=\"fEGBrd\" style=\"display:none\"> <div aria-hidden=\"true\" jscontroller=\"qoVwNc\" jsid=\"bXVAae\" jsname=\"bXVAae\" style=\"display:none\"></div> <div aria-hidden=\"true\" jsaction=\"rcuQ6b:rcuQ6b\" jscontroller=\"JYKBLd\" jsname=\"WgWZrc\" style=\"display:none\"></div> <div aria-hidden=\"true\" jsaction=\"rcuQ6b:rcuQ6b\" jscontroller=\"jO3TP\" jsid=\"ODkgAf\" jsname=\"ODkgAf\" style=\"display:none\"></div> <div aria-hidden=\"true\" jsaction=\"rcuQ6b:rcuQ6b\" jscontroller=\"PNVjMb\" jsname=\"Jmc6Od\" style=\"display:none\"></div> <div aria-hidden=\"true\" jsaction=\"rcuQ6b:rcuQ6b\" jscontroller=\"YK1sC\" jsname=\"DCaEEd\" style=\"display:none\"></div> </div> </div><div aria-hidden=\"true\" class=\"keyboard-shortcuts-controller\" jsaction=\"rcuQ6b:rcuQ6b\" jscontroller=\"BngI6\" style=\"display:none\"></div><div jsaction=\"rcuQ6b:npT2md;submit:GNwXB;input:w2SLu;focus:qKoZef\" jscontroller=\"XmMFlb\"><div id=\"gbar\"><nobr><a class=\"gb1\" href=\"https://www.google.co.in/webhp?tab=8w\">Search</a> <a class=\"gb1\" href=\"http://www.google.co.in/imghp?hl=en-GB&amp;tab=8i\">Images</a> <a class=\"gb1\" href=\"https://maps.google.co.in/maps?hl=en-GB&amp;tab=8l\">Maps</a> <b class=\"gb1\">Play</b> <a class=\"gb1\" href=\"https://www.youtube.com/?tab=81\">YouTube</a> <a class=\"gb1\" href=\"https://mail.google.com/mail/?tab=8m\">Gmail</a> <a class=\"gb1\" href=\"https://drive.google.com/?tab=8o\">Drive</a> <a class=\"gb1\" href=\"https://www.google.com/calendar?tab=8c\">Calendar</a> <a class=\"gb1\" href=\"https://www.google.co.in/intl/en-GB/options/\" style=\"text-decoration:none\"><u>More</u> »</a></nobr></div></div><div id=\"offscreen-renderer\" style=\"position:fixed;top:-100000px;left:-100000px;opacity:0\"></div><div class=\"wrapper wrapper-with-footer\" id=\"wrapper\"><div jsaction=\"rcuQ6b:rcuQ6b\" jscontroller=\"KLl4Ne\" style=\"display:block\"> <div class=\"id-nav-container nav-container hover-zone\" data-server-cookie=\"CAMiGwgBEAAaFRITCg12ZXJ0aWNhbF9tZW51EBoYAA==\" data-uitype=\"418\" style=\"visibility:hidden\"> <span class=\"show-all-hover-zone\"> <span class=\"hover-arrow\"></span> </span> <ul class=\"nav id-corpus-nav-list corpus-nav-list newicon\" role=\"navigation\"> <li class=\"nav-list-item id-track-click apps\" data-backend=\"3\" data-server-cookie=\"CAQqBggDEAMoBA==\" data-uitype=\"101\" style=\"display:none\"> <a class=\"menu-link id-no-menu-change selected\" href=\"/store/apps\"> <span class=\"hover-target\"> <span class=\"icon-container\"> <span class=\"icon\"></span> </span> <span class=\"title\">Apps</span> </span> </a> <ul class=\"sub-nav non-store-sub-nav\"> <li class=\"sub-nav-option id-track-click\" data-uitype=\"103\"> <a class=\"library-link id-no-menu-change\" href=\"/apps\">My apps</a> </li> <li class=\"sub-nav-option\"> <a class=\"shop-link id-no-menu-change chosen\" href=\"/store/apps\">Shop</a> </li> <li class=\"sub-nav-divider\"></li> <li class=\"secondary-sub-nav-option\"> <a class=\"sub-nav-link id-no-menu-change\" href=\"/store/apps/category/GAME\">Games</a> </li> <li class=\"secondary-sub-nav-option\"> <a class=\"sub-nav-link id-no-menu-change\" href=\"/store/apps/category/FAMILY\">Family</a> </li> <li class=\"secondary-sub-nav-option\"> <a class=\"sub-nav-link id-no-menu-change\" href=\"/store/apps/collection/editors_choice\">Editors' Choice</a> </li> </ul> </li> <li class=\"nav-list-item id-track-click movies\" data-backend=\"4\" data-server-cookie=\"CAQqBggDEAQoBA==\" data-uitype=\"101\" style=\"display:none\"> <a class=\"menu-link id-no-menu-change default\" href=\"/store/movies\"> <span class=\"hover-target\"> <span class=\"icon-container\"> <span class=\"icon\"></span> </span> <span class=\"title\">Movies</span> </span> </a> <ul class=\"sub-nav non-store-sub-nav\"> <li class=\"sub-nav-option id-track-click\" data-uitype=\"122\"> <a class=\"library-link id-no-menu-change\" href=\"/movies\">My movies</a> </li> <li class=\"sub-nav-option\"> <a class=\"shop-link id-no-menu-change chosen\" href=\"/store/movies\">Shop</a> </li> <li class=\"sub-nav-divider\"></li> <li class=\"secondary-sub-nav-option\"> <a class=\"sub-nav-link id-no-menu-change\" href=\"/store/movies/collection/promotion_collections_movie_studios\">Studios</a> </li> </ul> </li> <li class=\"nav-list-item id-track-click books\" data-backend=\"1\" data-server-cookie=\"CAQqBggDEAEoBA==\" data-uitype=\"101\" style=\"display:none\"> <a class=\"menu-link id-no-menu-change default\" href=\"/store/books\"> <span class=\"hover-target\"> <span class=\"icon-container\"> <span class=\"icon\"></span> </span> <span class=\"title\">Books</span> </span> </a> <ul class=\"sub-nav non-store-sub-nav\"> <li class=\"sub-nav-option id-track-click\" data-uitype=\"106\"> <a class=\"library-link id-no-menu-change id-no-nav\" href=\"/books\">My books</a> </li> <li class=\"sub-nav-option\"> <a class=\"shop-link id-no-menu-change chosen\" href=\"/store/books\">Shop</a> </li> <li class=\"sub-nav-divider\"></li> <li class=\"secondary-sub-nav-option\"> <a class=\"sub-nav-link id-no-menu-change\" href=\"/store/books/category/coll_1401\">Comics</a> </li> </ul> </li> <li class=\"nav-list-item id-track-click magazines\" data-backend=\"6\" data-server-cookie=\"CAQqBggDEAYoBA==\" data-uitype=\"101\" style=\"display:none\"> <a class=\"menu-link id-no-menu-change default\" href=\"/store/newsstand\"> <span class=\"hover-target\"> <span class=\"icon-container\"> <span class=\"icon\"></span> </span> <span class=\"title non-breaking-cjk\">Newsstand</span> </span> </a> <ul class=\"sub-nav non-store-sub-nav\"> <li class=\"sub-nav-option\"> <a class=\"library-link id-no-menu-change id-track-click\" data-uitype=\"121\" href=\"/newsstand\">My Newsstand</a> </li> <li class=\"sub-nav-option\"> <a class=\"shop-link id-no-menu-change chosen\" href=\"/store/newsstand\">Shop</a> </li> </ul> </li> <li class=\"nav-list-item id-track-click devices\" data-backend=\"5\" data-server-cookie=\"CAQqBggDEAUoBA==\" data-uitype=\"101\" style=\"display:none\"> <a class=\"menu-link id-no-menu-change default\" href=\"/store/devices\"> <span class=\"hover-target\"> <span class=\"icon-container\"> <span class=\"icon\"></span> </span> <span class=\"title\">Devices</span> </span> </a> <ul class=\"sub-nav non-store-sub-nav\"> <li class=\"sub-nav-option\"> <a class=\"shop-link id-no-menu-change chosen\" href=\"/store/devices\">Shop</a> </li> </ul> </li> <li class=\"nav-list-item id-track-click entertainment\" data-backend=\"0\" data-server-cookie=\"CAQqBggDEAAoBA==\" data-uitype=\"101\" style=\"display:none\"> <a class=\"menu-link id-no-menu-change default\" href=\"/store\"> <span class=\"hover-target\"> <span class=\"icon-container\"> <span class=\"icon\"></span> </span> <span class=\"title\">Entertainment</span> </span> </a> </li> </ul> <div> <ul class=\"id-sub-nav-store shared-sub-nav\"> <li class=\"secondary-sub-nav-option id-track-click\" data-uitype=\"110\"> <a class=\"sub-nav-link id-no-menu-change\" href=\"/store/account\"> <span>My account</span> </a> </li> <li class=\"secondary-sub-nav-option id-track-click\" data-uitype=\"123\"> <a class=\"sub-nav-link id-no-menu-change\" href=\"/store/myplayactivity\">My Play activity</a> </li> <li class=\"secondary-sub-nav-option id-track-click\" data-uitype=\"108\"> <a class=\"sub-nav-link id-no-menu-change\" href=\"/wishlist\">My wishlist</a> </li> <li class=\"secondary-sub-nav-option id-cannot-set-chosen redeem-option id-track-click\" data-uitype=\"109\"> <button class=\"sub-nav-link id-no-menu-change id-no-nav\">Redeem</button> </li> <li class=\"secondary-sub-nav-option id-cannot-set-chosen id-track-click\" data-uitype=\"125\"> <a class=\"sub-nav-link id-no-menu-change id-no-nav\" href=\"https://play.google.com/intl/en-GB_in/about/giftcards\">Buy gift card</a> </li> <li class=\"secondary-sub-nav-option id-cannot-set-chosen id-track-click\"> <a class=\"sub-nav-link id-no-menu-change\" href=\"https://support.google.com/googleplay?p=pff_parentguide\">Parent guide</a> </li> </ul> </div> </div> </div><div class=\"butterbar-container\"><span id=\"butterbar\"></span></div><div class=\"body-content-loading-overlay\" style=\"display:none\"><div class=\"body-content-loading-spinner\"></div></div><script>(function(){window._sc='[[\\x22/store/permissionsupdate\\x22,\\x22\\x22,\\x22/store\\x22,\\x22/store/account\\x22,\\x22/store/movies\\x22,\\x22/store/music\\x22,\\x22/store/books\\x22,\\x22/store/newsstand\\x22,\\x22/store/apps\\x22,\\x22/store/devices\\x22,\\x22https://market.android.com/suggest/SuggRequest?json\\\\u003d1\\\\u0026c\\\\u003d0\\x22,\\x22https://market.android.com/suggest/SuggRequest?json\\\\u003d1\\\\u0026c\\\\u003d4\\x22,\\x22https://market.android.com/suggest/SuggRequest?json\\\\u003d1\\\\u0026c\\\\u003d1\\x22,\\x22https://market.android.com/suggest/SuggRequest?json\\\\u003d1\\\\u0026c\\\\u003d6\\x22,null,\\x22https://market.android.com/suggest/SuggRequest?json\\\\u003d1\\\\u0026c\\\\u003d2\\x22,\\x22https://market.android.com/suggest/SuggRequest?json\\\\u003d1\\\\u0026c\\\\u003d3\\x22,\\x22https://market.android.com/suggest/SuggRequest?json\\\\u003d1\\\\u0026c\\\\u003d5\\x22,null,\\x22/\\x22,\\x22/play/log?format\\\\u003djson\\x22,null,\\x22https://play.google.com/intl/en-GB_in/about/play-terms.html\\x22,\\x22https://support.google.com/googleplay/answer/2479637?topic\\\\u003d2450225\\\\u0026hl\\\\u003den_GB\\x22,null,\\x22/store/install\\x22,null,\\x22/wishlist\\x22,\\x22/movies\\x22,\\x22/music?authuser\\x22,\\x22/books\\x22,\\x22/newsstand\\x22,\\x22/apps\\x22,\\x22/store/xhr/enablegpr\\x22,\\x22/store/xhr/deletereview\\x22,\\x22/store/xhr/ructx\\x22,\\x22/store/xhr/getuseraddress\\x22,\\x22/store/submitreview\\x22,\\x22/store/addtocart\\x22,\\x22/store/xhr/updatecart\\x22,\\x22https://www.gstatic.com/play/store/web/swf/4musicplayer.swf\\x22,\\x22/store/xhr/rapcategories\\x22,\\x22/store/xhr/rapsubmit\\x22,\\x22/store/xhr/puc\\x22,\\x22/store/xhr/pulc\\x22,\\x22/store/xhr/getwatchembed\\x22,\\x22https://accounts.google.com/ServiceLogin?service\\\\u003dgoogleplay\\\\u0026passive\\\\u003d86400\\x22,\\x22https://accounts.google.com/ServiceLogin?service\\\\u003dgoogleplay\\\\u0026passive\\\\u003d0\\x22,null,\\x22/store/xhr/mul\\x22,\\x22/store/xhr/getdoc\\x22,\\x22http://support.google.com/mobile/?p\\\\u003dbooks_formats\\x22,\\x22http://support.google.com/mobile/?p\\\\u003dbooks_devices\\x22,\\x22http://support.google.com/mobile/?p\\\\u003dbooks_androidapp\\x22,\\x22http://support.google.com/mobile/?p\\\\u003dbooks_iosapp\\x22,\\x22http://support.google.com/googleplay/bin/answer.py?answer\\\\u003d1062502\\\\u0026topic\\\\u003d1187416\\\\u0026ctx\\\\u003dtopic\\x22,\\x22/store/apps/details?id\\\\u003dcom.google.android.apps.books\\x22,\\x22/store/apps/details?id\\\\u003dcom.google.android.music\\x22,\\x22/store/apps/details?id\\\\u003dcom.google.android.videos\\x22,\\x22/store/apps/details?id\\\\u003dcom.google.android.apps.magazines\\x22,\\x22/store/xhr/topupopts\\x22,\\x22/store/setuserdata\\x22,\\x22/store/xhr/buynoco\\x22,\\x22/store/apps/collection/editors_choice\\x22,\\x22/store/apps/category/GAME\\x22,\\x22/store/account\\x22,\\x22/redeem\\x22,null,\\x22/store/cart?modTime\\\\u003d0\\x22,\\x22/store/xhr/cancelsub\\x22,\\x22/store/xhr/dfph\\x22,\\x22https://play.google.com/intl/en-GB_in/about/giftcards\\x22,\\x22/store/movies/category/MOVIE\\x22,\\x22/store/movies/category/TV\\x22,\\x22/store/cancelpreorder\\x22,\\x22http://support.google.com/googleplay/devices\\x22,\\x22/settings\\x22,\\x22/store/ratereview\\x22,\\x22/store/getdevicepermissions\\x22,\\x22/store/xhr/hide\\x22,\\x22/store/getreviews\\x22,\\x22/store/movies/collection/promotion_collections_movie_studios\\x22,\\x22/store/movies/collection/promotion_collections_tv_networks\\x22,\\x22/store/xhr/canceldeviceorder\\x22,\\x22https://plus.google.com\\x22,\\x22https://wallet.google.com/updateCreditCard\\x22,null,\\x22/store/xhr/experimenttoggler\\x22,\\x22https://support.google.com/googleplay/?p\\\\u003dremote_install_error\\x22,null,\\x22/store/onewayredeem\\x22,\\x22https://wallet.google.com/legaldocument?docId\\\\u003d0.buyertos/IN/2/1/und\\x22,\\x22/store/xhr/getvariantrec\\x22,\\x22https://wallet.google.com/legaldocument?family\\\\u003d0.privacynotice\\\\u0026hl\\\\u003den_GB\\x22,\\x22https://play.google.com/intl/en-GB_in/about/redeem-terms.html\\x22,\\x22/store/ees/xhr/prepur\\x22,\\x22/store/ees/xhr/comppurch\\x22,\\x22/store/xhr/getsimilarcluster\\x22,\\x22/store/xhr/getreviewannotation\\x22,\\x22/store/xhr/dismisssug\\x22,\\x22/store/xhr/getartistalbums\\x22,\\x22/store/myplayactivity\\x22,\\x22/store/opensearch.xml\\x22,\\x22https://ageverification.google.co.kr/ageverification?cl\\\\u003d1\\\\u0026hl\\\\u003dko\\\\u0026authuser\\x22,\\x22https://support.google.com/websearch/answer/4358949?ref_topic\\\\u003d3285072\\\\u0026hl\\\\u003dko\\x22,\\x22https://support.google.com/googleplay/?p\\\\u003dreport_content\\x22,null,\\x22/store/order\\x22,\\x22https://play.google.com/intl/en-GB_in/about/promo-terms.html\\x22,\\x22/store/xhr/gbp\\x22,\\x22/store/xhr/uninstall\\x22,\\x22/store/xhr/searchcontent\\x22,\\x22/store/approveitem\\x22,\\x22\\x22,\\x22/store/licenses/apps\\x22,\\x22/store/unapproveitem\\x22,\\x22/store/xhr/pglc\\x22,\\x22/store/xhr/assign\\x22,\\x22https://wallet.google.com\\x22,\\x22/store/xhr/accepttos\\x22,\\x22\\x22,\\x22/store/xhr/getassignments\\x22,\\x22/store/xhr/guided_help_get\\x22,\\x22/store/xhr/guided_help_set\\x22,\\x22/store/xhr/pp\\x22,\\x22/store/xhr/cp\\x22,\\x22/store/chrome\\x22,\\x22/store/teacheraccess\\x22,\\x22/store/apps/category/FAMILY\\x22,\\x22https://sandbox.google.com\\x22,\\x22/store/xhr/edu_get_enc_po_signup\\x22,\\x22/store/xhr/edu_create_po\\x22,null,\\x22/store/xhr/edu_getdelegatedusers\\x22,\\x22/store/pos\\x22,\\x22/store/books/category/coll_1689\\x22,\\x22/store/xhr/user_install\\x22,\\x22/store/movies/category/FAMILY\\x22,\\x22/store/xhr/getbulkpurchasehistory\\x22,\\x22/store/xhr/delegate\\x22,\\x22/store/xhr/edu_get_currency_code\\x22,\\x22https://support.google.com/googleplay/work/answer/6170898\\x22,\\x22/store/xhr/getpos\\x22,\\x22/store/xhr/grouplicenserefund\\x22,\\x22/store/xhr/ttd\\x22,\\x22/store/xhr/ttp\\x22,\\x22/store/xhr/managecontent\\x22,\\x22/store/xhr/getuseremail\\x22,\\x22/store/checkoutcart\\x22,\\x22/store/xhr/edu_ggast\\x22,\\x22/store/xhr/asa\\x22,\\x22/store/xhr/edu_getpodelegatedusers\\x22,\\x22/store/xhr/delegate_po\\x22,\\x22https://support.google.com/googleplay?p\\\\u003dpff_parentguide\\x22,\\x22https://support.google.com/googleplay?p\\\\u003dappgame_ratings\\x22,\\x22/store/xhr/edu_start_po_setup\\x22,\\x22https://support.google.com/googleplay/?p\\\\u003dpage_count_issues\\x22,\\x22https://support.google.com/books/partner/contact/report_offensive_content\\x22,\\x22/store/ereview\\x22,\\x22https://accounts.google.com/AccountChooser?service\\\\u003dgoogleplay\\x22,\\x22https://support.google.com/googleplay/answer/3401166#readaloud\\x22,\\x22/store/myrewards\\x22,\\x22/store/xhr/addresswidgetdata\\x22,\\x22/music/listen?signup\\\\u003d1\\\\u0026utm_source\\\\u003dplaystore\\\\u0026utm_medium\\\\u003dalbum_detail_page\\\\u0026utm_campaign\\\\u003d30daytrial\\x22,\\x22/store/xhr/edu_getdevicepermissions\\x22,\\x22/store/getfamilywalletsettings\\x22,\\x22/store/xhr/setfamilywalletsettings\\x22,\\x22https://play.google.com/intl/en-GB_in/about/gift-terms.html\\x22,\\x22https://payments.google.com\\x22,\\x22https://store.google.com/terms/google_store_promo_codes\\x22,\\x22http://www.google.com/intl/en-GB_in/policies/privacy/\\x22,\\x22/store/books/category/coll_1401\\x22,\\x22/store/xhr/recordtos\\x22,null,null,\\x22/store/xhr/addresswidgetdata\\x22,\\x22https://www.ftc.gov/system/files/documents/cases/140904googleplayorder.pdf\\x22,\\x22/store/xhr/createenterprise\\x22,\\x22/store/xhr/ent_prepurch\\x22,\\x22/store/xhr/ent_comppurch\\x22,\\x22/store/xhr/usi\\x22,\\x22https://payments.google.com/payments/v4/js/integrator.js?ss\\\\u003dn\\x22,\\x22/store/xhr/sharepurchase\\x22,\\x22https://clients2.google.com/gr/gr_sync.js\\x22]\\n,0,1,[\\x22/store/search\\x22,\\x22Search\\x22]\\n,\\x22UA-19995903-1\\x22,\\x22PROD\\x22,1,\\x22https://wallet.google.com/payments/widgets/instrument_creator.js\\x22,60000,0,\\x221\\x22,0,1,null,0]\\n';})();</script><script>(function(){window._uc='[null,\\x22\\x22,\\x22en\\x22,\\x22IN\\x22,[[\\x222f20b378\\x22,null,1,\\x22enable_family_wallet\\x22]\\n,[\\x22ab23480d\\x22,null,1,\\x22enable_ads_supported_label_for_all_apps\\x22]\\n,[\\x2283a1c766\\x22,null,1,\\x22enable_grouping_app_permissions\\x22]\\n,[\\x2237ad289c\\x22,null,1,\\x22enable_hardware_cancel_redirect_on_success\\x22]\\n,[\\x229cd547a3\\x22,null,1,\\x22enable_enable_scs\\x22]\\n,[\\x225d382d8c\\x22,null,1,\\x22enable_entertainment_home_home\\x22]\\n,[\\x22f6caf8fb\\x22,null,1,\\x22enable_in_app_rap_fix\\x22]\\n,[\\x2226edeec1\\x22,null,1,\\x22enable_hydra_icons\\x22]\\n,[\\x22b023b0c4\\x22,null,1,\\x22enable_music_preview_rights\\x22]\\n,[\\x2286cd3d0c\\x22,null,1,\\x22enable_newsstand_details_page_redesign\\x22]\\n,[\\x2229e13522\\x22,null,1,\\x22enable_hd_availability_tv_strings\\x22]\\n,[\\x221e72ba8d\\x22,null,1,\\x22enable_flag_inappropriate\\x22]\\n,[\\x22758f5f1b\\x22,null,1,\\x22enable_money_with_add_on\\x22]\\n,[\\x22c4ce7ad4\\x22,null,1,\\x22enable_smith_redirect\\x22]\\n,[\\x2272b063b1\\x22,null,1,\\x22enable_movies_chrome_app_integration\\x22]\\n,[\\x226c45bbf7\\x22,null,1,\\x22enable_books_family_store\\x22]\\n,[\\x22b744e4cb\\x22,null,1,\\x22enable_signout_options_for_logout\\x22]\\n,[\\x22fd2d7ae8\\x22,null,1,\\x22enable_loonie_for_newsstand\\x22]\\n,[\\x22cfc83a8f\\x22,null,1,\\x22enable_movie_device_setup_page\\x22]\\n,[\\x22d0e25706\\x22,null,1,\\x22enable_movies_family_store\\x22]\\n,[\\x222b277ce0\\x22,null,1,\\x22enable_glass_discount\\x22]\\n,[\\x22860ff220\\x22,null,1,\\x22enable_enterprise_loonie\\x22]\\n,[\\x22fd0884cc\\x22,null,1,\\x22enable_inapp_purchase_text\\x22]\\n,[\\x22cd9bd9ce\\x22,null,1,\\x22enable_mobile_video_trailer\\x22]\\n,[\\x22e38df948\\x22,null,1,\\x22enable_finsky_wishlist_icon_adjust\\x22]\\n]\\n,0,null,0,null,null,[]\\n,null,0,[\\x22nocache:apps_family_store_enabled\\x22,\\x22nocache:laz\\x22,\\x22nocache:luffy_search_clusters_v1d:launch\\x22,\\x22nocache:payments_flow_for_setup_stored_value\\x22,\\x22nocache:payments_flow_for_update_profile_at_purchase\\x22,\\x22signed-out\\x22]\\n,[5500186,5500120,5500286,5500162,5500185,5500133,5500165,5500267,5500259,5500217,5500125,5500356,5500172,5500033,5500348,5500344,5500118,5500166,5500233,5500079,5500131,5500112,5500276,5500216,5500285,5500364,5500211]\\n,null,null,null,\\x22en-GB\\x22,[2,null,null,null,null,null,null,null,[\\x22en_GB\\x22]\\n]\\n,[]\\n,\\x22India\\x22,\\x22f47841eb-21fb-4f59-8be9-6d340cdd8a22\\x22]\\n';})();</script><script src=\"//ajax.googleapis.com/ajax/libs/jquery/1.9.0/jquery.min.js\"></script><script id=\"base-js\" src=\"//www.gstatic.com/_/play/_/js/k=play.js.en_GB.5Rn13PuOH0M.O/m=base,m,i/rt=j/d=1/rs=AGlW0sYNksWBG81Bj53dUQcQNMPE0nRJwg\"></script><script>pressPlay();</script><script type=\"text/javascript\">(function(){var locale='';window.___gcfg = {lang:locale,parsetags:'explicit'\n",
      "};})();</script><div aria-labelledby=\"main-title\" class=\"id-body-content-beginning\" tabindex=\"-1\"></div><div class=\"action-bar-container\" jsl=\"$t t-mtgV572_Ih8;$x 0;\" role=\"navigation\"> <div class=\"id-action-bar-inner action-bar-inner\"> <div class=\"action-bar apps\" jsan=\"7.action-bar,7.apps\" jsl=\"$x 1;\"> <div class=\"action-bar-item\" jsan=\"t-RAKlAzbC9gM,7.action-bar-item\" jsinstance=\"0\" jsl=\"$x 2;$t t-RAKlAzbC9gM;$x 0;\"> <div jsan=\"5.display\" jsl=\"$x 1;\" style=\"display:none\"></div> <div jsan=\"5.display\" jsl=\"$x 2;\" style=\"display:none\"></div> <button jsan=\"5.display\" jsl=\"$x 3;\" style=\"display:none\"></button> <button jsan=\"5.display\" jsl=\"$x 4;\" style=\"display:none\"></button> <div class=\"action-bar-dropdown-container\" jsan=\"t-QH4hoG9vrLo,7.action-bar-dropdown-container\" jsl=\"$x 5;$t t-QH4hoG9vrLo;$x 0;\"> <div class=\"action-bar-dropdown\"> <button aria-controls=\"action-dropdown-children-Categories\" aria-expanded=\"false\" aria-haspopup=\"true\" aria-owns=\"action-dropdown-children-Categories\" class=\"action-bar-dropdown-top\" id=\"action-dropdown-parent-Categories\" jsan=\"7.action-bar-dropdown-top,0.aria-controls,0.aria-owns,0.id,0.aria-expanded,0.aria-haspopup\" jsl=\"$x 1;\"> <span class=\"title\" jsan=\"7.title\" jsl=\"$x 2;\">Categories</span> <span class=\"dropdown-icon\"></span> </button> </div> <div class=\"name-edit-toggle\" style=\"display:none\"> <input class=\"edit-field-text\" jsl=\"$x 3;\" maxlength=\"50\" size=\"18\" type=\"text\" value=\"Categories\"/> </div> <div aria-labelledby=\"action-dropdown-parent-Categories\" class=\"action-bar-dropdown-children-container\" id=\"action-dropdown-children-Categories\" jsl=\"$x 4;\" style=\"display:none\"> <div class=\"dropdown-submenu\" jsan=\"7.dropdown-submenu\" jsl=\"$x 5;\"> <ul jsl=\"$x 6;\"> <li class=\"action-dropdown-outer-list-item list-item\" jsan=\"7.action-dropdown-outer-list-item,7.list-item\" jsinstance=\"0\" jsl=\"$x 7;\"> <ul class=\"submenu-item-wrapper\" jsl=\"$x 8;$t t-lkJy1hChpmQ;$x 0;\"> <li class=\"parent-submenu-link-wrapper\" jsl=\"$x 1;\" style=\"display:none\"> <a href=\"#\" jsan=\"8.href,0.title\" jsl=\"$x 2;\" title=\"\"></a> </li> <li class=\"submenu-divider\" jsl=\"$x 3;\" style=\"display:none\"></li> <li class=\"child-submenu-link-wrapper\" jsinstance=\"0\" jsl=\"$x 4;\"> <a class=\"child-submenu-link\" href=\"/store/apps/category/ANDROID_WEAR\" jsan=\"7.child-submenu-link,8.href,0.title\" jsl=\"$x 5;\" title=\"Android Wear\">Android Wear</a> </li><li class=\"child-submenu-link-wrapper\" jsinstance=\"1\" jsl=\"$x 4;\"> <a class=\"child-submenu-link\" href=\"/store/apps/category/BOOKS_AND_REFERENCE\" jsan=\"7.child-submenu-link,8.href,0.title\" jsl=\"$x 5;\" title=\"Books &amp; Reference\">Books &amp; Reference</a> </li><li class=\"child-submenu-link-wrapper\" jsinstance=\"2\" jsl=\"$x 4;\"> <a class=\"child-submenu-link\" href=\"/store/apps/category/BUSINESS\" jsan=\"7.child-submenu-link,8.href,0.title\" jsl=\"$x 5;\" title=\"Business\">Business</a> </li><li class=\"child-submenu-link-wrapper\" jsinstance=\"3\" jsl=\"$x 4;\"> <a class=\"child-submenu-link\" href=\"/store/apps/category/COMICS\" jsan=\"7.child-submenu-link,8.href,0.title\" jsl=\"$x 5;\" title=\"Comics\">Comics</a> </li><li class=\"child-submenu-link-wrapper\" jsinstance=\"4\" jsl=\"$x 4;\"> <a class=\"child-submenu-link\" href=\"/store/apps/category/COMMUNICATION\" jsan=\"7.child-submenu-link,8.href,0.title\" jsl=\"$x 5;\" title=\"Communication\">Communication</a> </li><li class=\"child-submenu-link-wrapper\" jsinstance=\"5\" jsl=\"$x 4;\"> <a class=\"child-submenu-link\" href=\"/store/apps/category/EDUCATION\" jsan=\"7.child-submenu-link,8.href,0.title\" jsl=\"$x 5;\" title=\"Education\">Education</a> </li><li class=\"child-submenu-link-wrapper\" jsinstance=\"6\" jsl=\"$x 4;\"> <a class=\"child-submenu-link\" href=\"/store/apps/category/ENTERTAINMENT\" jsan=\"7.child-submenu-link,8.href,0.title\" jsl=\"$x 5;\" title=\"Entertainment\">Entertainment</a> </li><li class=\"child-submenu-link-wrapper\" jsinstance=\"7\" jsl=\"$x 4;\"> <a class=\"child-submenu-link\" href=\"/store/apps/category/FINANCE\" jsan=\"7.child-submenu-link,8.href,0.title\" jsl=\"$x 5;\" title=\"Finance\">Finance</a> </li><li class=\"child-submenu-link-wrapper\" jsinstance=\"8\" jsl=\"$x 4;\"> <a class=\"child-submenu-link\" href=\"/store/apps/category/HEALTH_AND_FITNESS\" jsan=\"7.child-submenu-link,8.href,0.title\" jsl=\"$x 5;\" title=\"Health &amp; Fitness\">Health &amp; Fitness</a> </li><li class=\"child-submenu-link-wrapper\" jsinstance=\"9\" jsl=\"$x 4;\"> <a class=\"child-submenu-link\" href=\"/store/apps/category/LIBRARIES_AND_DEMO\" jsan=\"7.child-submenu-link,8.href,0.title\" jsl=\"$x 5;\" title=\"Libraries &amp; Demo\">Libraries &amp; Demo</a> </li><li class=\"child-submenu-link-wrapper\" jsinstance=\"10\" jsl=\"$x 4;\"> <a class=\"child-submenu-link\" href=\"/store/apps/category/LIFESTYLE\" jsan=\"7.child-submenu-link,8.href,0.title\" jsl=\"$x 5;\" title=\"Lifestyle\">Lifestyle</a> </li><li class=\"child-submenu-link-wrapper\" jsinstance=\"11\" jsl=\"$x 4;\"> <a class=\"child-submenu-link\" href=\"/store/apps/category/APP_WALLPAPER\" jsan=\"7.child-submenu-link,8.href,0.title\" jsl=\"$x 5;\" title=\"Live Wallpaper\">Live Wallpaper</a> </li><li class=\"child-submenu-link-wrapper\" jsinstance=\"12\" jsl=\"$x 4;\"> <a class=\"child-submenu-link\" href=\"/store/apps/category/MEDIA_AND_VIDEO\" jsan=\"7.child-submenu-link,8.href,0.title\" jsl=\"$x 5;\" title=\"Media &amp; Video\">Media &amp; Video</a> </li><li class=\"child-submenu-link-wrapper\" jsinstance=\"13\" jsl=\"$x 4;\"> <a class=\"child-submenu-link\" href=\"/store/apps/category/MEDICAL\" jsan=\"7.child-submenu-link,8.href,0.title\" jsl=\"$x 5;\" title=\"Medical\">Medical</a> </li><li class=\"child-submenu-link-wrapper\" jsinstance=\"14\" jsl=\"$x 4;\"> <a class=\"child-submenu-link\" href=\"/store/apps/category/MUSIC_AND_AUDIO\" jsan=\"7.child-submenu-link,8.href,0.title\" jsl=\"$x 5;\" title=\"Music &amp; Audio\">Music &amp; Audio</a> </li><li class=\"child-submenu-link-wrapper\" jsinstance=\"15\" jsl=\"$x 4;\"> <a class=\"child-submenu-link\" href=\"/store/apps/category/NEWS_AND_MAGAZINES\" jsan=\"7.child-submenu-link,8.href,0.title\" jsl=\"$x 5;\" title=\"News &amp; Magazines\">News &amp; Magazines</a> </li><li class=\"child-submenu-link-wrapper\" jsinstance=\"16\" jsl=\"$x 4;\"> <a class=\"child-submenu-link\" href=\"/store/apps/category/PERSONALIZATION\" jsan=\"7.child-submenu-link,8.href,0.title\" jsl=\"$x 5;\" title=\"Personalisation\">Personalisation</a> </li><li class=\"child-submenu-link-wrapper\" jsinstance=\"17\" jsl=\"$x 4;\"> <a class=\"child-submenu-link\" href=\"/store/apps/category/PHOTOGRAPHY\" jsan=\"7.child-submenu-link,8.href,0.title\" jsl=\"$x 5;\" title=\"Photography\">Photography</a> </li><li class=\"child-submenu-link-wrapper\" jsinstance=\"18\" jsl=\"$x 4;\"> <a class=\"child-submenu-link\" href=\"/store/apps/category/PRODUCTIVITY\" jsan=\"7.child-submenu-link,8.href,0.title\" jsl=\"$x 5;\" title=\"Productivity\">Productivity</a> </li><li class=\"child-submenu-link-wrapper\" jsinstance=\"19\" jsl=\"$x 4;\"> <a class=\"child-submenu-link\" href=\"/store/apps/category/SHOPPING\" jsan=\"7.child-submenu-link,8.href,0.title\" jsl=\"$x 5;\" title=\"Shopping\">Shopping</a> </li><li class=\"child-submenu-link-wrapper\" jsinstance=\"20\" jsl=\"$x 4;\"> <a class=\"child-submenu-link\" href=\"/store/apps/category/SOCIAL\" jsan=\"7.child-submenu-link,8.href,0.title\" jsl=\"$x 5;\" title=\"Social\">Social</a> </li><li class=\"child-submenu-link-wrapper\" jsinstance=\"21\" jsl=\"$x 4;\"> <a class=\"child-submenu-link\" href=\"/store/apps/category/SPORTS\" jsan=\"7.child-submenu-link,8.href,0.title\" jsl=\"$x 5;\" title=\"Sports\">Sports</a> </li><li class=\"child-submenu-link-wrapper\" jsinstance=\"22\" jsl=\"$x 4;\"> <a class=\"child-submenu-link\" href=\"/store/apps/category/TOOLS\" jsan=\"7.child-submenu-link,8.href,0.title\" jsl=\"$x 5;\" title=\"Tools\">Tools</a> </li><li class=\"child-submenu-link-wrapper\" jsinstance=\"23\" jsl=\"$x 4;\"> <a class=\"child-submenu-link\" href=\"/store/apps/category/TRANSPORTATION\" jsan=\"7.child-submenu-link,8.href,0.title\" jsl=\"$x 5;\" title=\"Transport\">Transport</a> </li><li class=\"child-submenu-link-wrapper\" jsinstance=\"24\" jsl=\"$x 4;\"> <a class=\"child-submenu-link\" href=\"/store/apps/category/TRAVEL_AND_LOCAL\" jsan=\"7.child-submenu-link,8.href,0.title\" jsl=\"$x 5;\" title=\"Travel &amp; Local\">Travel &amp; Local</a> </li><li class=\"child-submenu-link-wrapper\" jsinstance=\"25\" jsl=\"$x 4;\"> <a class=\"child-submenu-link\" href=\"/store/apps/category/WEATHER\" jsan=\"7.child-submenu-link,8.href,0.title\" jsl=\"$x 5;\" title=\"Weather\">Weather</a> </li><li class=\"child-submenu-link-wrapper\" jsinstance=\"*26\" jsl=\"$x 4;\"> <a class=\"child-submenu-link\" href=\"/store/apps/category/APP_WIDGETS\" jsan=\"7.child-submenu-link,8.href,0.title\" jsl=\"$x 5;\" title=\"Widgets\">Widgets</a> </li> </ul> <div jsl=\"$x 9;\" style=\"display:none\"></div> </li><li class=\"action-dropdown-outer-list-item list-item\" jsan=\"7.action-dropdown-outer-list-item,7.list-item\" jsinstance=\"1\" jsl=\"$x 7;\"> <ul class=\"submenu-item-wrapper\" jsl=\"$x 8;$t t-lkJy1hChpmQ;$x 0;\"> <li class=\"parent-submenu-link-wrapper\" jsl=\"$x 1;\"> <a class=\"parent-submenu-link\" href=\"/store/apps/category/GAME\" jsan=\"7.parent-submenu-link,8.href,0.title\" jsl=\"$x 2;\" title=\"Games\">Games</a> </li> <li class=\"submenu-divider\" jsl=\"$x 3;\"></li> <li class=\"child-submenu-link-wrapper\" jsinstance=\"0\" jsl=\"$x 4;\"> <a class=\"child-submenu-link\" href=\"/store/apps/category/GAME_ACTION\" jsan=\"7.child-submenu-link,8.href,0.title\" jsl=\"$x 5;\" title=\"Action\">Action</a> </li><li class=\"child-submenu-link-wrapper\" jsinstance=\"1\" jsl=\"$x 4;\"> <a class=\"child-submenu-link\" href=\"/store/apps/category/GAME_ADVENTURE\" jsan=\"7.child-submenu-link,8.href,0.title\" jsl=\"$x 5;\" title=\"Adventure\">Adventure</a> </li><li class=\"child-submenu-link-wrapper\" jsinstance=\"2\" jsl=\"$x 4;\"> <a class=\"child-submenu-link\" href=\"/store/apps/category/GAME_ARCADE\" jsan=\"7.child-submenu-link,8.href,0.title\" jsl=\"$x 5;\" title=\"Arcade\">Arcade</a> </li><li class=\"child-submenu-link-wrapper\" jsinstance=\"3\" jsl=\"$x 4;\"> <a class=\"child-submenu-link\" href=\"/store/apps/category/GAME_BOARD\" jsan=\"7.child-submenu-link,8.href,0.title\" jsl=\"$x 5;\" title=\"Board\">Board</a> </li><li class=\"child-submenu-link-wrapper\" jsinstance=\"4\" jsl=\"$x 4;\"> <a class=\"child-submenu-link\" href=\"/store/apps/category/GAME_CARD\" jsan=\"7.child-submenu-link,8.href,0.title\" jsl=\"$x 5;\" title=\"Card\">Card</a> </li><li class=\"child-submenu-link-wrapper\" jsinstance=\"5\" jsl=\"$x 4;\"> <a class=\"child-submenu-link\" href=\"/store/apps/category/GAME_CASINO\" jsan=\"7.child-submenu-link,8.href,0.title\" jsl=\"$x 5;\" title=\"Casino\">Casino</a> </li><li class=\"child-submenu-link-wrapper\" jsinstance=\"6\" jsl=\"$x 4;\"> <a class=\"child-submenu-link\" href=\"/store/apps/category/GAME_CASUAL\" jsan=\"7.child-submenu-link,8.href,0.title\" jsl=\"$x 5;\" title=\"Casual\">Casual</a> </li><li class=\"child-submenu-link-wrapper\" jsinstance=\"7\" jsl=\"$x 4;\"> <a class=\"child-submenu-link\" href=\"/store/apps/category/GAME_EDUCATIONAL\" jsan=\"7.child-submenu-link,8.href,0.title\" jsl=\"$x 5;\" title=\"Educational\">Educational</a> </li><li class=\"child-submenu-link-wrapper\" jsinstance=\"8\" jsl=\"$x 4;\"> <a class=\"child-submenu-link\" href=\"/store/apps/category/GAME_MUSIC\" jsan=\"7.child-submenu-link,8.href,0.title\" jsl=\"$x 5;\" title=\"Music\">Music</a> </li><li class=\"child-submenu-link-wrapper\" jsinstance=\"9\" jsl=\"$x 4;\"> <a class=\"child-submenu-link\" href=\"/store/apps/category/GAME_PUZZLE\" jsan=\"7.child-submenu-link,8.href,0.title\" jsl=\"$x 5;\" title=\"Puzzle\">Puzzle</a> </li><li class=\"child-submenu-link-wrapper\" jsinstance=\"10\" jsl=\"$x 4;\"> <a class=\"child-submenu-link\" href=\"/store/apps/category/GAME_RACING\" jsan=\"7.child-submenu-link,8.href,0.title\" jsl=\"$x 5;\" title=\"Racing\">Racing</a> </li><li class=\"child-submenu-link-wrapper\" jsinstance=\"11\" jsl=\"$x 4;\"> <a class=\"child-submenu-link\" href=\"/store/apps/category/GAME_ROLE_PLAYING\" jsan=\"7.child-submenu-link,8.href,0.title\" jsl=\"$x 5;\" title=\"Role Playing\">Role Playing</a> </li><li class=\"child-submenu-link-wrapper\" jsinstance=\"12\" jsl=\"$x 4;\"> <a class=\"child-submenu-link\" href=\"/store/apps/category/GAME_SIMULATION\" jsan=\"7.child-submenu-link,8.href,0.title\" jsl=\"$x 5;\" title=\"Simulation\">Simulation</a> </li><li class=\"child-submenu-link-wrapper\" jsinstance=\"13\" jsl=\"$x 4;\"> <a class=\"child-submenu-link\" href=\"/store/apps/category/GAME_SPORTS\" jsan=\"7.child-submenu-link,8.href,0.title\" jsl=\"$x 5;\" title=\"Sports\">Sports</a> </li><li class=\"child-submenu-link-wrapper\" jsinstance=\"14\" jsl=\"$x 4;\"> <a class=\"child-submenu-link\" href=\"/store/apps/category/GAME_STRATEGY\" jsan=\"7.child-submenu-link,8.href,0.title\" jsl=\"$x 5;\" title=\"Strategy\">Strategy</a> </li><li class=\"child-submenu-link-wrapper\" jsinstance=\"15\" jsl=\"$x 4;\"> <a class=\"child-submenu-link\" href=\"/store/apps/category/GAME_TRIVIA\" jsan=\"7.child-submenu-link,8.href,0.title\" jsl=\"$x 5;\" title=\"Trivia\">Trivia</a> </li><li class=\"child-submenu-link-wrapper\" jsinstance=\"*16\" jsl=\"$x 4;\"> <a class=\"child-submenu-link\" href=\"/store/apps/category/GAME_WORD\" jsan=\"7.child-submenu-link,8.href,0.title\" jsl=\"$x 5;\" title=\"Word\">Word</a> </li> </ul> <div jsl=\"$x 9;\" style=\"display:none\"></div> </li><li class=\"action-dropdown-outer-list-item list-item\" jsan=\"7.action-dropdown-outer-list-item,7.list-item\" jsinstance=\"*2\" jsl=\"$x 7;\"> <ul class=\"submenu-item-wrapper\" jsl=\"$x 8;$t t-lkJy1hChpmQ;$x 0;\"> <li class=\"parent-submenu-link-wrapper\" jsl=\"$x 1;\"> <a class=\"parent-submenu-link\" href=\"/store/apps/category/FAMILY\" jsan=\"7.parent-submenu-link,8.href,0.title\" jsl=\"$x 2;\" title=\"Family\">Family</a> </li> <li class=\"submenu-divider\" jsl=\"$x 3;\"></li> <li class=\"child-submenu-link-wrapper\" jsinstance=\"0\" jsl=\"$x 4;\"> <a class=\"child-submenu-link\" href=\"/store/apps/category/FAMILY?age=AGE_RANGE1\" jsan=\"7.child-submenu-link,8.href,0.title\" jsl=\"$x 5;\" title=\"Ages 5 &amp; Under\">Ages 5 &amp; Under</a> </li><li class=\"child-submenu-link-wrapper\" jsinstance=\"1\" jsl=\"$x 4;\"> <a class=\"child-submenu-link\" href=\"/store/apps/category/FAMILY?age=AGE_RANGE2\" jsan=\"7.child-submenu-link,8.href,0.title\" jsl=\"$x 5;\" title=\"Ages 6-8\">Ages 6-8</a> </li><li class=\"child-submenu-link-wrapper\" jsinstance=\"2\" jsl=\"$x 4;\"> <a class=\"child-submenu-link\" href=\"/store/apps/category/FAMILY?age=AGE_RANGE3\" jsan=\"7.child-submenu-link,8.href,0.title\" jsl=\"$x 5;\" title=\"Ages 9 &amp; Over\">Ages 9 &amp; Over</a> </li><li class=\"child-submenu-link-wrapper\" jsinstance=\"3\" jsl=\"$x 4;\"> <a class=\"child-submenu-link\" href=\"/store/info/collection/promotion_family_popular_characters\" jsan=\"7.child-submenu-link,8.href,0.title\" jsl=\"$x 5;\" title=\"Popular Characters\">Popular Characters</a> </li><li class=\"child-submenu-link-wrapper\" jsinstance=\"4\" jsl=\"$x 4;\"> <a class=\"child-submenu-link\" href=\"/store/apps/category/FAMILY_ACTION\" jsan=\"7.child-submenu-link,8.href,0.title\" jsl=\"$x 5;\" title=\"Action &amp; Adventure\">Action &amp; Adventure</a> </li><li class=\"child-submenu-link-wrapper\" jsinstance=\"5\" jsl=\"$x 4;\"> <a class=\"child-submenu-link\" href=\"/store/apps/category/FAMILY_BRAINGAMES\" jsan=\"7.child-submenu-link,8.href,0.title\" jsl=\"$x 5;\" title=\"Brain Games\">Brain Games</a> </li><li class=\"child-submenu-link-wrapper\" jsinstance=\"6\" jsl=\"$x 4;\"> <a class=\"child-submenu-link\" href=\"/store/apps/category/FAMILY_CREATE\" jsan=\"7.child-submenu-link,8.href,0.title\" jsl=\"$x 5;\" title=\"Creativity\">Creativity</a> </li><li class=\"child-submenu-link-wrapper\" jsinstance=\"7\" jsl=\"$x 4;\"> <a class=\"child-submenu-link\" href=\"/store/apps/category/FAMILY_EDUCATION\" jsan=\"7.child-submenu-link,8.href,0.title\" jsl=\"$x 5;\" title=\"Education\">Education</a> </li><li class=\"child-submenu-link-wrapper\" jsinstance=\"8\" jsl=\"$x 4;\"> <a class=\"child-submenu-link\" href=\"/store/apps/category/FAMILY_MUSICVIDEO\" jsan=\"7.child-submenu-link,8.href,0.title\" jsl=\"$x 5;\" title=\"Music and video\">Music and video</a> </li><li class=\"child-submenu-link-wrapper\" jsinstance=\"*9\" jsl=\"$x 4;\"> <a class=\"child-submenu-link\" href=\"/store/apps/category/FAMILY_PRETEND\" jsan=\"7.child-submenu-link,8.href,0.title\" jsl=\"$x 5;\" title=\"Pretend play\">Pretend play</a> </li> </ul> <div jsl=\"$x 9;\" style=\"display:none\"></div> </li> </ul> </div> </div> </div> <div class=\"action-bar-spacer\" jsl=\"$x 6;\" style=\"display:none\"> </div> <div jsl=\"$x 7;\" style=\"display:none\"></div> </div><div class=\"action-bar-item\" jsan=\"t-RAKlAzbC9gM,7.action-bar-item\" jsinstance=\"1\" jsl=\"$x 2;$t t-RAKlAzbC9gM;$x 0;\"> <div jsan=\"5.display\" jsl=\"$x 1;\" style=\"display:none\"></div> <div jsan=\"5.display\" jsl=\"$x 2;\" style=\"display:none\"></div> <button jsan=\"5.display\" jsl=\"$x 3;\" style=\"display:none\"></button> <button jsan=\"5.display\" jsl=\"$x 4;\" style=\"display:none\"></button> <div jsan=\"5.display\" jsl=\"$x 5;\" style=\"display:none\"></div> <div class=\"action-bar-spacer\" jsl=\"$x 6;\"> </div> <div jsl=\"$x 7;\" style=\"display:none\"></div> </div><div class=\"action-bar-item\" jsan=\"t-RAKlAzbC9gM,7.action-bar-item\" jsinstance=\"2\" jsl=\"$x 2;$t t-RAKlAzbC9gM;$x 0;\"> <div jsan=\"5.display\" jsl=\"$x 1;\" style=\"display:none\"></div> <div class=\"action-bar-link\" jsan=\"t-j5pjMgcfXGc,7.action-bar-link\" jsl=\"$x 2;$t t-j5pjMgcfXGc;$x 0;\"> <a aria-selected=\"false\" class=\"action-bar-link-title anchor\" href=\"/store/apps\" jsan=\"7.action-bar-link-title,7.anchor,0.aria-selected,8.href\" jsl=\"$x 1;\">Home</a> <span class=\"action-bar-link-title\" jsan=\"7.action-bar-link-title,5.display\" jsl=\"$x 2;\" style=\"display:none\"></span> </div> <button jsan=\"5.display\" jsl=\"$x 3;\" style=\"display:none\"></button> <button jsan=\"5.display\" jsl=\"$x 4;\" style=\"display:none\"></button> <div jsan=\"5.display\" jsl=\"$x 5;\" style=\"display:none\"></div> <div class=\"action-bar-spacer\" jsl=\"$x 6;\" style=\"display:none\"> </div> <div jsl=\"$x 7;\" style=\"display:none\"></div> </div><div class=\"action-bar-item\" jsan=\"t-RAKlAzbC9gM,7.action-bar-item\" jsinstance=\"3\" jsl=\"$x 2;$t t-RAKlAzbC9gM;$x 0;\"> <div jsan=\"5.display\" jsl=\"$x 1;\" style=\"display:none\"></div> <div class=\"action-bar-link\" jsan=\"t-j5pjMgcfXGc,7.action-bar-link\" jsl=\"$x 2;$t t-j5pjMgcfXGc;$x 0;\"> <a aria-selected=\"false\" class=\"action-bar-link-title anchor\" href=\"/store/apps/top\" jsan=\"7.action-bar-link-title,7.anchor,0.aria-selected,8.href\" jsl=\"$x 1;\">Top Charts</a> <span class=\"action-bar-link-title\" jsan=\"7.action-bar-link-title,5.display\" jsl=\"$x 2;\" style=\"display:none\"></span> </div> <button jsan=\"5.display\" jsl=\"$x 3;\" style=\"display:none\"></button> <button jsan=\"5.display\" jsl=\"$x 4;\" style=\"display:none\"></button> <div jsan=\"5.display\" jsl=\"$x 5;\" style=\"display:none\"></div> <div class=\"action-bar-spacer\" jsl=\"$x 6;\" style=\"display:none\"> </div> <div jsl=\"$x 7;\" style=\"display:none\"></div> </div><div class=\"action-bar-item\" jsan=\"t-RAKlAzbC9gM,7.action-bar-item\" jsinstance=\"4\" jsl=\"$x 2;$t t-RAKlAzbC9gM;$x 0;\"> <div jsan=\"5.display\" jsl=\"$x 1;\" style=\"display:none\"></div> <div class=\"action-bar-link\" jsan=\"t-j5pjMgcfXGc,7.action-bar-link\" jsl=\"$x 2;$t t-j5pjMgcfXGc;$x 0;\"> <a aria-selected=\"false\" class=\"action-bar-link-title anchor\" href=\"/store/apps/new\" jsan=\"7.action-bar-link-title,7.anchor,0.aria-selected,8.href\" jsl=\"$x 1;\">New Releases</a> <span class=\"action-bar-link-title\" jsan=\"7.action-bar-link-title,5.display\" jsl=\"$x 2;\" style=\"display:none\"></span> </div> <button jsan=\"5.display\" jsl=\"$x 3;\" style=\"display:none\"></button> <button jsan=\"5.display\" jsl=\"$x 4;\" style=\"display:none\"></button> <div jsan=\"5.display\" jsl=\"$x 5;\" style=\"display:none\"></div> <div class=\"action-bar-spacer\" jsl=\"$x 6;\" style=\"display:none\"> </div> <div jsl=\"$x 7;\" style=\"display:none\"></div> </div><div class=\"action-bar-aux\" jsan=\"t-GqOCazsd7cI,7.action-bar-aux\" jsinstance=\"*5\" jsl=\"$x 2;$t t-GqOCazsd7cI;$x 0;\"> <div class=\"action-bar-item\" jsan=\"t-RAKlAzbC9gM,7.action-bar-item\" jsinstance=\"0\" jsl=\"$x 1;$t t-RAKlAzbC9gM;$x 0;\"> <div jsan=\"5.display\" jsl=\"$x 1;\" style=\"display:none\"></div> <div jsan=\"5.display\" jsl=\"$x 2;\" style=\"display:none\"></div> <button jsan=\"5.display\" jsl=\"$x 3;\" style=\"display:none\"></button> <button class=\"action-bar-link action-bar-help play-button small id-track-click\" data-uitype=\"112\" jsaction=\"rcuQ6b:rcuQ6b;L1KARc\" jsan=\"t-U4R0M3UJfzc,0.jscontroller,7.action-bar-link,7.action-bar-help,7.play-button,7.small,7.id-track-click,0.data-uitype,0.title,22.jsaction\" jscontroller=\"bJGPjf\" jsl=\"$x 4;$t t-U4R0M3UJfzc;$x 0;\" jsvs=\"'bJGPjf';'rcuQ6b:rcuQ6b;L1KARc';\" title=\"Help\"> <span class=\"action-bar-link-title\" jsan=\"7.action-bar-link-title\" jsl=\"$x 1;\"></span> </button> <div jsan=\"5.display\" jsl=\"$x 5;\" style=\"display:none\"></div> <div class=\"action-bar-spacer\" jsl=\"$x 6;\" style=\"display:none\"> </div> <div jsl=\"$x 7;\" style=\"display:none\"></div> </div><div class=\"action-bar-item settings-gear-menu play-button small\" jsan=\"t-RAKlAzbC9gM,7.action-bar-item,7.settings-gear-menu,7.play-button,7.small\" jsinstance=\"*1\" jsl=\"$x 1;$t t-RAKlAzbC9gM;$x 0;\"> <div jsan=\"5.display\" jsl=\"$x 1;\" style=\"display:none\"></div> <div jsan=\"5.display\" jsl=\"$x 2;\" style=\"display:none\"></div> <button jsan=\"5.display\" jsl=\"$x 3;\" style=\"display:none\"></button> <button jsan=\"5.display\" jsl=\"$x 4;\" style=\"display:none\"></button> <div class=\"action-bar-dropdown-container\" data-uitype=\"2905\" jsan=\"0.data-uitype,t-QH4hoG9vrLo,7.action-bar-dropdown-container\" jsl=\"$x 5;$t t-QH4hoG9vrLo;$x 0;\"> <div class=\"action-bar-dropdown\"> <button aria-controls=\"action-dropdown-children-\" aria-expanded=\"false\" aria-haspopup=\"true\" aria-label=\"Settings\" aria-owns=\"action-dropdown-children-\" class=\"action-bar-dropdown-top\" id=\"action-dropdown-parent-\" jsan=\"7.action-bar-dropdown-top,0.aria-controls,0.aria-label,0.aria-owns,0.id,0.aria-expanded,0.aria-haspopup\" jsl=\"$x 1;\"> <span class=\"title\" jsan=\"7.title\" jsl=\"$x 2;\"></span> <span class=\"dropdown-icon\"></span> </button> </div> <div class=\"name-edit-toggle\" style=\"display:none\"> <input class=\"edit-field-text\" jsl=\"$x 3;\" maxlength=\"50\" size=\"18\" type=\"text\" value=\"\"/> </div> <div aria-labelledby=\"action-dropdown-parent-\" class=\"action-bar-dropdown-children-container\" id=\"action-dropdown-children-\" jsl=\"$x 4;\" style=\"display:none\"> <div class=\"dropdown-submenu\" jsan=\"7.dropdown-submenu\" jsl=\"$x 5;\"> <ul class=\"submenu-item-wrapper\" jsan=\"7.submenu-item-wrapper\" jsl=\"$x 6;\"> <li jsinstance=\"0\" jsl=\"$x 7;\"> <ul jsl=\"$x 8;\" style=\"display:none\"></ul> <div class=\"leaf-submenu-link-wrapper\" jsl=\"$x 9;$t t-qseNNdCvOYc;$x 0;\"> <a class=\"leaf-submenu-link\" href=\"/settings\" jsan=\"7.leaf-submenu-link,8.href,0.title\" jsl=\"$x 1;\" title=\"Settings\">Settings</a> <button jsan=\"5.display\" jsl=\"$x 2;\" style=\"display:none\"></button> </div> </li><li jsinstance=\"*1\" jsl=\"$x 7;\"> <ul jsl=\"$x 8;\" style=\"display:none\"></ul> <div class=\"leaf-submenu-link-wrapper\" jsl=\"$x 9;$t t-qseNNdCvOYc;$x 0;\"> <a class=\"leaf-submenu-link\" href=\"https://www.google.com/android/devicemanager?hl=en_GB\" jsan=\"7.leaf-submenu-link,8.href,0.target,0.title\" jsl=\"$x 1;\" target=\"_blank\" title=\"Android Device Manager\">Android Device Manager</a> <button jsan=\"5.display\" jsl=\"$x 2;\" style=\"display:none\"></button> </div> </li> </ul> </div> </div> </div> <div class=\"action-bar-spacer\" jsl=\"$x 6;\" style=\"display:none\"> </div> <div jsl=\"$x 7;\" style=\"display:none\"></div> </div> </div> </div> </div> </div><div class=\"body-content\" id=\"body-content\" itemscope=\"itemscope\" itemtype=\"http://schema.org/MobileApplication\" role=\"main\"><meta content=\"https://play.google.com/store/apps/details?id=com.cimaxapp.weirdfacts\" itemprop=\"url\"/><div class=\"outer-container\"><div class=\"inner-container\"><div class=\"main-content\"><div> <div class=\"details-wrapper apps square-cover id-track-partial-impression id-deep-link-item\" data-deep-link-server-cookie=\"CAQqJwgEEAMaHxIdChdjb20uY2ltYXhhcHAud2VpcmRmYWN0cxABGAMoAQ==\" data-deep-link-type=\"1\" data-docid=\"com.cimaxapp.weirdfacts\" data-server-cookie=\"CAIaIwofEh0KF2NvbS5jaW1heGFwcC53ZWlyZGZhY3RzEAEYA0IA\" data-uitype=\"209\"> <div class=\"details-info\"> <div class=\"cover-container\"> <img alt=\"Cover art\" aria-hidden=\"true\" class=\"cover-image\" itemprop=\"\" src=\"//lh5.ggpht.com/kFL5f5wX6oM0aGJNMllJPGFstM00H_h_bmbb8YCYAi0O-kUfeKvVKOgGwYBzIkIwQw=w300\"/></div></div></div></div></div></div></div></div></div></z></img></div></div></div></div></div></div></div></div>, <div class=\"body-content\" id=\"body-content\" itemscope=\"itemscope\" itemtype=\"http://schema.org/MobileApplication\" role=\"main\"><meta content=\"https://play.google.com/store/apps/details?id=com.cimaxapp.weirdfacts\" itemprop=\"url\"/><div class=\"outer-container\"><div class=\"inner-container\"><div class=\"main-content\"><div> <div class=\"details-wrapper apps square-cover id-track-partial-impression id-deep-link-item\" data-deep-link-server-cookie=\"CAQqJwgEEAMaHxIdChdjb20uY2ltYXhhcHAud2VpcmRmYWN0cxABGAMoAQ==\" data-deep-link-type=\"1\" data-docid=\"com.cimaxapp.weirdfacts\" data-server-cookie=\"CAIaIwofEh0KF2NvbS5jaW1heGFwcC53ZWlyZGZhY3RzEAEYA0IA\" data-uitype=\"209\"> <div class=\"details-info\"> <div class=\"cover-container\"> <img alt=\"Cover art\" aria-hidden=\"true\" class=\"cover-image\" itemprop=\"\" src=\"//lh5.ggpht.com/kFL5f5wX6oM0aGJNMllJPGFstM00H_h_bmbb8YCYAi0O-kUfeKvVKOgGwYBzIkIwQw=w300\"/></div></div></div></div></div></div></div></div>]\n"
     ]
    }
   ],
   "source": [
    "print two"
   ]
  },
  {
   "cell_type": "code",
   "execution_count": 265,
   "metadata": {
    "collapsed": false
   },
   "outputs": [
    {
     "name": "stdout",
     "output_type": "stream",
     "text": [
      "<div class=\"body-content-loading-spinner\"></div>\n"
     ]
    }
   ],
   "source": [
    "i = one[0]\n",
    "r = i.findAll(\"div\")\n",
    "print r[5]"
   ]
  },
  {
   "cell_type": "code",
   "execution_count": 303,
   "metadata": {
    "collapsed": false
   },
   "outputs": [
    {
     "name": "stdout",
     "output_type": "stream",
     "text": [
      "[]\n"
     ]
    }
   ],
   "source": [
    "i = soup.findAll(\"div\", {\"class\":\"id-app-title\"})\n",
    "print i"
   ]
  },
  {
   "cell_type": "code",
   "execution_count": 327,
   "metadata": {
    "collapsed": false,
    "scrolled": true
   },
   "outputs": [
    {
     "ename": "NameError",
     "evalue": "name 'soup' is not defined",
     "output_type": "error",
     "traceback": [
      "\u001b[1;31m---------------------------------------------------------------------------\u001b[0m",
      "\u001b[1;31mNameError\u001b[0m                                 Traceback (most recent call last)",
      "\u001b[1;32m<ipython-input-327-f2768c66577a>\u001b[0m in \u001b[0;36m<module>\u001b[1;34m()\u001b[0m\n\u001b[1;32m----> 1\u001b[1;33m \u001b[0mi\u001b[0m \u001b[1;33m=\u001b[0m \u001b[0msoup\u001b[0m\u001b[1;33m.\u001b[0m\u001b[0mselect\u001b[0m\u001b[1;33m(\u001b[0m\u001b[1;34m'html body.no-focus-outline.sidebar-visible.user-has-no-subscription div#wrapper.wrapper.wrapper-with-footer div#body-content.body-content div.outer-container div.inner-container div.main-content div div.details-wrapper.apps.square-cover.id-track-partial-impression.id-deep-link-item div.details-info div.info-container div.info-box-top h1.document-title div.id-app-title'\u001b[0m\u001b[1;33m)\u001b[0m\u001b[1;33m\u001b[0m\u001b[0m\n\u001b[0m",
      "\u001b[1;31mNameError\u001b[0m: name 'soup' is not defined"
     ]
    }
   ],
   "source": [
    "i = soup.select('html body.no-focus-outline.sidebar-visible.user-has-no-subscription div#wrapper.wrapper.wrapper-with-footer div#body-content.body-content div.outer-container div.inner-container div.main-content div div.details-wrapper.apps.square-cover.id-track-partial-impression.id-deep-link-item div.details-info div.info-container div.info-box-top h1.document-title div.id-app-title')"
   ]
  },
  {
   "cell_type": "code",
   "execution_count": 361,
   "metadata": {
    "collapsed": false
   },
   "outputs": [
    {
     "ename": "TypeError",
     "evalue": "'NoneType' object is not callable",
     "output_type": "error",
     "traceback": [
      "\u001b[1;31m---------------------------------------------------------------------------\u001b[0m",
      "\u001b[1;31mTypeError\u001b[0m                                 Traceback (most recent call last)",
      "\u001b[1;32m<ipython-input-361-c6168691c143>\u001b[0m in \u001b[0;36m<module>\u001b[1;34m()\u001b[0m\n\u001b[0;32m     10\u001b[0m \u001b[1;33m\u001b[0m\u001b[0m\n\u001b[0;32m     11\u001b[0m \u001b[0mtitle\u001b[0m \u001b[1;33m=\u001b[0m \u001b[0msoup\u001b[0m\u001b[1;33m.\u001b[0m\u001b[0mfind\u001b[0m\u001b[1;33m(\u001b[0m\u001b[0mclass_\u001b[0m\u001b[1;33m=\u001b[0m\u001b[1;34m\"id-app-title\"\u001b[0m\u001b[1;33m)\u001b[0m\u001b[1;33m.\u001b[0m\u001b[0mget_text\u001b[0m\u001b[1;33m(\u001b[0m\u001b[1;33m)\u001b[0m\u001b[1;33m\u001b[0m\u001b[0m\n\u001b[1;32m---> 12\u001b[1;33m \u001b[0mrating\u001b[0m \u001b[1;33m=\u001b[0m \u001b[0msoup\u001b[0m\u001b[1;33m.\u001b[0m\u001b[0mselect_one\u001b[0m\u001b[1;33m(\u001b[0m\u001b[1;34m\".document-subtitle .star-rating-non-editable-container\"\u001b[0m\u001b[1;33m)\u001b[0m\u001b[1;33m[\u001b[0m\u001b[1;34m\"aria-label\"\u001b[0m\u001b[1;33m]\u001b[0m\u001b[1;33m.\u001b[0m\u001b[0mstrip\u001b[0m\u001b[1;33m(\u001b[0m\u001b[1;33m)\u001b[0m\u001b[1;33m\u001b[0m\u001b[0m\n\u001b[0m\u001b[0;32m     13\u001b[0m \u001b[1;33m\u001b[0m\u001b[0m\n\u001b[0;32m     14\u001b[0m \u001b[1;32mprint\u001b[0m\u001b[1;33m(\u001b[0m\u001b[0mtitle\u001b[0m\u001b[1;33m)\u001b[0m\u001b[1;33m\u001b[0m\u001b[0m\n",
      "\u001b[1;31mTypeError\u001b[0m: 'NoneType' object is not callable"
     ]
    }
   ],
   "source": [
    "import requests\n",
    "from bs4 import BeautifulSoup\n",
    "\n",
    "url = \"https://play.google.com/store/apps/details?id=com.cimaxapp.weirdfacts\"\n",
    "r = requests.get(url, headers={'USER_AGENT' : 'Mozilla/5.0 (Macintosh; Intel Mac OS X 10_10_1) AppleWebKit/537.36 (KHTML, like Gecko) Chrome/40.0.2214.111 Safari/537.36'})\n",
    "\n",
    "\n",
    "html = r.content\n",
    "soup = BeautifulSoup(html, \"html.parser\")\n",
    "\n",
    "title = soup.find(class_=\"id-app-title\").get_text()\n",
    "rating = soup.select_one(\".document-subtitle .star-rating-non-editable-container\")[\"aria-label\"].strip()\n",
    "\n",
    "print(title)\n",
    "print(rating)"
   ]
  },
  {
   "cell_type": "code",
   "execution_count": 362,
   "metadata": {
    "collapsed": false
   },
   "outputs": [
    {
     "ename": "TypeError",
     "evalue": "'NoneType' object is not callable",
     "output_type": "error",
     "traceback": [
      "\u001b[1;31m---------------------------------------------------------------------------\u001b[0m",
      "\u001b[1;31mTypeError\u001b[0m                                 Traceback (most recent call last)",
      "\u001b[1;32m<ipython-input-362-293c4a4d71bb>\u001b[0m in \u001b[0;36m<module>\u001b[1;34m()\u001b[0m\n\u001b[0;32m     10\u001b[0m \u001b[1;33m\u001b[0m\u001b[0m\n\u001b[0;32m     11\u001b[0m \u001b[0mtitle\u001b[0m \u001b[1;33m=\u001b[0m \u001b[0msoup\u001b[0m\u001b[1;33m.\u001b[0m\u001b[0mfind\u001b[0m\u001b[1;33m(\u001b[0m\u001b[0mclass_\u001b[0m\u001b[1;33m=\u001b[0m\u001b[1;34m\"id-app-title\"\u001b[0m\u001b[1;33m)\u001b[0m\u001b[1;33m.\u001b[0m\u001b[0mget_text\u001b[0m\u001b[1;33m(\u001b[0m\u001b[1;33m)\u001b[0m\u001b[1;33m\u001b[0m\u001b[0m\n\u001b[1;32m---> 12\u001b[1;33m \u001b[0mrating\u001b[0m \u001b[1;33m=\u001b[0m \u001b[0msoup\u001b[0m\u001b[1;33m.\u001b[0m\u001b[0mselect_one\u001b[0m\u001b[1;33m(\u001b[0m\u001b[1;34m\".document-subtitle .star-rating-non-editable-container\"\u001b[0m\u001b[1;33m)\u001b[0m\u001b[1;33m[\u001b[0m\u001b[1;34m\"aria-label\"\u001b[0m\u001b[1;33m]\u001b[0m\u001b[1;33m.\u001b[0m\u001b[0mstrip\u001b[0m\u001b[1;33m(\u001b[0m\u001b[1;33m)\u001b[0m\u001b[1;33m\u001b[0m\u001b[0m\n\u001b[0m\u001b[0;32m     13\u001b[0m \u001b[1;33m\u001b[0m\u001b[0m\n\u001b[0;32m     14\u001b[0m \u001b[1;32mprint\u001b[0m\u001b[1;33m(\u001b[0m\u001b[0mtitle\u001b[0m\u001b[1;33m)\u001b[0m\u001b[1;33m\u001b[0m\u001b[0m\n",
      "\u001b[1;31mTypeError\u001b[0m: 'NoneType' object is not callable"
     ]
    }
   ],
   "source": [
    "import requests\n",
    "from bs4 import BeautifulSoup\n",
    "\n",
    "url = \"https://play.google.com/store/apps/details?id=com.cimaxapp.weirdfacts\"\n",
    "r = requests.get(url, headers={\n",
    "    \"User-Agent\": \"Mozilla/5.0 (Macintosh; Intel Mac OS X 10_11_4) AppleWebKit/537.36 (KHTML, like Gecko) Chrome/50.0.2661.94 Safari/537.36\"\n",
    "})\n",
    "html = r.content\n",
    "soup = BeautifulSoup(html, \"html.parser\")\n",
    "\n",
    "title = soup.find(class_=\"id-app-title\").get_text()\n",
    "rating = soup.select_one(\".document-subtitle .star-rating-non-editable-container\")[\"aria-label\"].strip()\n",
    "\n",
    "print(title)\n",
    "print(rating)"
   ]
  },
  {
   "cell_type": "code",
   "execution_count": null,
   "metadata": {
    "collapsed": true
   },
   "outputs": [],
   "source": []
  }
 ],
 "metadata": {
  "kernelspec": {
   "display_name": "Python 2",
   "language": "python",
   "name": "python2"
  },
  "language_info": {
   "codemirror_mode": {
    "name": "ipython",
    "version": 2
   },
   "file_extension": ".py",
   "mimetype": "text/x-python",
   "name": "python",
   "nbconvert_exporter": "python",
   "pygments_lexer": "ipython2",
   "version": "2.7.10"
  }
 },
 "nbformat": 4,
 "nbformat_minor": 0
}
